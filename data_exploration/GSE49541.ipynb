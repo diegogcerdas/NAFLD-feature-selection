{
 "cells": [
  {
   "cell_type": "code",
   "execution_count": 1,
   "metadata": {},
   "outputs": [],
   "source": [
    "import GEOparse\n",
    "import pandas as pd\n",
    "import numpy as np\n",
    "import re\n",
    "import itertools\n",
    "import matplotlib.pyplot as plt"
   ]
  },
  {
   "cell_type": "markdown",
   "metadata": {},
   "source": [
    "# GSE49541"
   ]
  },
  {
   "cell_type": "markdown",
   "metadata": {},
   "source": [
    "This notebook provides a brief exploration of the [GSE49541 dataset](https://www.ncbi.nlm.nih.gov/geo/query/acc.cgi?acc=GSE49541). Our goal is to extract (1) gene expression intensity values, (2) the condition of each patient, and (3) a symbol for each gene in the dataset.\n",
    "\n",
    "We start by loading the dataset with GEOparse and creating a cycling iterator to go through all GEO samples."
   ]
  },
  {
   "cell_type": "code",
   "execution_count": 2,
   "metadata": {},
   "outputs": [
    {
     "name": "stderr",
     "output_type": "stream",
     "text": [
      "/home/diego/miniconda3/envs/bio/lib/python3.9/site-packages/GEOparse/GEOparse.py:401: DtypeWarning: Columns (2) have mixed types. Specify dtype option on import or set low_memory=False.\n",
      "  return read_csv(StringIO(data), index_col=None, sep=\"\\t\")\n"
     ]
    }
   ],
   "source": [
    "gse = GEOparse.get_GEO(geo=\"GSE49541\", destdir='../data', silent=True)\n",
    "gsm_cycler = itertools.cycle(gse.gsms.items())"
   ]
  },
  {
   "cell_type": "markdown",
   "metadata": {},
   "source": [
    "Here, we visualize single GEO samples, each represented by a DataFrame containing probes as rows and a `VALUE` column with the gene expression intensity values."
   ]
  },
  {
   "cell_type": "code",
   "execution_count": 3,
   "metadata": {},
   "outputs": [
    {
     "name": "stdout",
     "output_type": "stream",
     "text": [
      "count    54675.000000\n",
      "mean         3.797475\n",
      "std          2.295899\n",
      "min          2.358000\n",
      "25%          2.358000\n",
      "50%          2.426000\n",
      "75%          4.642000\n",
      "max         15.312000\n",
      "Name: VALUE, dtype: float64\n"
     ]
    },
    {
     "data": {
      "text/html": [
       "<div>\n",
       "<style scoped>\n",
       "    .dataframe tbody tr th:only-of-type {\n",
       "        vertical-align: middle;\n",
       "    }\n",
       "\n",
       "    .dataframe tbody tr th {\n",
       "        vertical-align: top;\n",
       "    }\n",
       "\n",
       "    .dataframe thead th {\n",
       "        text-align: right;\n",
       "    }\n",
       "</style>\n",
       "<table border=\"1\" class=\"dataframe\">\n",
       "  <thead>\n",
       "    <tr style=\"text-align: right;\">\n",
       "      <th></th>\n",
       "      <th>ID_REF</th>\n",
       "      <th>VALUE</th>\n",
       "    </tr>\n",
       "  </thead>\n",
       "  <tbody>\n",
       "    <tr>\n",
       "      <th>0</th>\n",
       "      <td>1007_s_at</td>\n",
       "      <td>5.043</td>\n",
       "    </tr>\n",
       "    <tr>\n",
       "      <th>1</th>\n",
       "      <td>1053_at</td>\n",
       "      <td>4.993</td>\n",
       "    </tr>\n",
       "    <tr>\n",
       "      <th>2</th>\n",
       "      <td>117_at</td>\n",
       "      <td>2.367</td>\n",
       "    </tr>\n",
       "    <tr>\n",
       "      <th>3</th>\n",
       "      <td>121_at</td>\n",
       "      <td>3.087</td>\n",
       "    </tr>\n",
       "    <tr>\n",
       "      <th>4</th>\n",
       "      <td>1255_g_at</td>\n",
       "      <td>2.358</td>\n",
       "    </tr>\n",
       "  </tbody>\n",
       "</table>\n",
       "</div>"
      ],
      "text/plain": [
       "      ID_REF  VALUE\n",
       "0  1007_s_at  5.043\n",
       "1    1053_at  4.993\n",
       "2     117_at  2.367\n",
       "3     121_at  3.087\n",
       "4  1255_g_at  2.358"
      ]
     },
     "execution_count": 3,
     "metadata": {},
     "output_type": "execute_result"
    }
   ],
   "source": [
    "gsm_name, gsm = next(gsm_cycler)\n",
    "table = gsm.table\n",
    "print(table['VALUE'].describe())\n",
    "table.head()"
   ]
  },
  {
   "cell_type": "markdown",
   "metadata": {},
   "source": [
    "Each GEO sample contains relevant metadata."
   ]
  },
  {
   "cell_type": "code",
   "execution_count": 4,
   "metadata": {},
   "outputs": [
    {
     "name": "stdout",
     "output_type": "stream",
     "text": [
      "title: ['NAFLD liver biopsy tissue 15006']\n",
      "geo_accession: ['GSM789111']\n",
      "status: ['Public on Aug 30 2013']\n",
      "submission_date: ['Aug 31 2011']\n",
      "last_update_date: ['Aug 30 2013']\n",
      "type: ['RNA']\n",
      "channel_count: ['1']\n",
      "source_name_ch1: ['NAFLD liver biopsy tissue']\n",
      "organism_ch1: ['Homo sapiens']\n",
      "taxid_ch1: ['9606']\n",
      "characteristics_ch1: ['Stage: advanced (fibrosis stage 3-4)', 'tissue: liver']\n",
      "molecule_ch1: ['total RNA']\n",
      "extract_protocol_ch1: [\"Qiagen Micro Kit according to manufacturer's instructions\"]\n",
      "label_ch1: ['biotin']\n",
      "label_protocol_ch1: ['Ambion MessageAmp Premier as described by the manufacturer']\n",
      "hyb_protocol: ['Affymetrix GeneChip  hybridization Oven 645']\n",
      "scan_protocol: ['Affymetrix GeneChip Scanner 7G']\n",
      "description: ['Gene expression data from advanced NAFLD patient']\n",
      "data_processing: ['GC-RMA']\n",
      "platform_id: ['GPL570']\n",
      "contact_name: ['Cynthia,,Moylan']\n",
      "contact_email: ['cynthia.moylan@duke.edu']\n",
      "contact_department: ['Gastroenterology']\n",
      "contact_institute: ['Duke University Medical Center']\n",
      "contact_address: ['595 LaSalle Street, GSRB1, DUMC 3256']\n",
      "contact_city: ['Durham']\n",
      "contact_state: ['NC']\n",
      "contact_zip/postal_code: ['27710']\n",
      "contact_country: ['USA']\n",
      "supplementary_file: ['ftp://ftp.ncbi.nlm.nih.gov/geo/samples/GSM789nnn/GSM789111/suppl/GSM789111.CEL.gz']\n",
      "series_id: ['GSE31803', 'GSE49541']\n",
      "data_row_count: ['54675']\n"
     ]
    }
   ],
   "source": [
    "gsm_name, gsm = next(gsm_cycler)\n",
    "\n",
    "for k, v in gsm.metadata.items():\n",
    "    print(f'{k}: {v}')"
   ]
  },
  {
   "cell_type": "markdown",
   "metadata": {},
   "source": [
    "We are interested in knowing the condition of each patient; hence, we extract it from the `characteristics_ch1` value. The dataset contains 40 patients with mild NAFLD and 32 patients with advanced NAFLD. For integration with other datasets, we map these names to _NAFL_ and _NASH_."
   ]
  },
  {
   "cell_type": "code",
   "execution_count": 5,
   "metadata": {},
   "outputs": [
    {
     "name": "stdout",
     "output_type": "stream",
     "text": [
      "Original conditions:  ['advanced' 'mild']\n",
      "Conditions:\n",
      "- NAFL: 40\n",
      "- NASH: 32\n"
     ]
    }
   ],
   "source": [
    "geo_accessions = [gsm.metadata['geo_accession'][0] for _, gsm in gse.gsms.items()]\n",
    "stages = [re.search(r\"Stage:\\s*(\\w+)\", gsm.metadata['characteristics_ch1'][0]).group(1) for _, gsm in gse.gsms.items()]\n",
    "print('Original conditions: ', np.unique(stages))\n",
    "stages = ['NAFL' if stage == 'mild' else 'NASH' for stage in stages]\n",
    "values, counts = np.unique(stages, return_counts=True)\n",
    "\n",
    "print('Conditions:')\n",
    "for stage, count in zip(values, counts):\n",
    "    print(f'- {stage}: {count}')"
   ]
  },
  {
   "cell_type": "markdown",
   "metadata": {},
   "source": [
    "Now we gather all samples in a single DataFrame."
   ]
  },
  {
   "cell_type": "code",
   "execution_count": 6,
   "metadata": {},
   "outputs": [
    {
     "data": {
      "text/html": [
       "<div>\n",
       "<style scoped>\n",
       "    .dataframe tbody tr th:only-of-type {\n",
       "        vertical-align: middle;\n",
       "    }\n",
       "\n",
       "    .dataframe tbody tr th {\n",
       "        vertical-align: top;\n",
       "    }\n",
       "\n",
       "    .dataframe thead th {\n",
       "        text-align: right;\n",
       "    }\n",
       "</style>\n",
       "<table border=\"1\" class=\"dataframe\">\n",
       "  <thead>\n",
       "    <tr style=\"text-align: right;\">\n",
       "      <th></th>\n",
       "      <th>GSM789110</th>\n",
       "      <th>GSM789111</th>\n",
       "      <th>GSM789112</th>\n",
       "      <th>GSM789113</th>\n",
       "      <th>GSM789114</th>\n",
       "      <th>GSM789115</th>\n",
       "      <th>GSM789116</th>\n",
       "      <th>GSM789117</th>\n",
       "      <th>GSM789118</th>\n",
       "      <th>GSM789119</th>\n",
       "      <th>...</th>\n",
       "      <th>GSM789172</th>\n",
       "      <th>GSM789173</th>\n",
       "      <th>GSM789174</th>\n",
       "      <th>GSM789175</th>\n",
       "      <th>GSM789176</th>\n",
       "      <th>GSM789177</th>\n",
       "      <th>GSM789178</th>\n",
       "      <th>GSM789179</th>\n",
       "      <th>GSM789180</th>\n",
       "      <th>GSM789181</th>\n",
       "    </tr>\n",
       "    <tr>\n",
       "      <th>ID_REF</th>\n",
       "      <th></th>\n",
       "      <th></th>\n",
       "      <th></th>\n",
       "      <th></th>\n",
       "      <th></th>\n",
       "      <th></th>\n",
       "      <th></th>\n",
       "      <th></th>\n",
       "      <th></th>\n",
       "      <th></th>\n",
       "      <th></th>\n",
       "      <th></th>\n",
       "      <th></th>\n",
       "      <th></th>\n",
       "      <th></th>\n",
       "      <th></th>\n",
       "      <th></th>\n",
       "      <th></th>\n",
       "      <th></th>\n",
       "      <th></th>\n",
       "      <th></th>\n",
       "    </tr>\n",
       "  </thead>\n",
       "  <tbody>\n",
       "    <tr>\n",
       "      <th>1007_s_at</th>\n",
       "      <td>5.043</td>\n",
       "      <td>4.739</td>\n",
       "      <td>4.728</td>\n",
       "      <td>4.480</td>\n",
       "      <td>4.479</td>\n",
       "      <td>5.410</td>\n",
       "      <td>4.435</td>\n",
       "      <td>4.424</td>\n",
       "      <td>4.624</td>\n",
       "      <td>4.568</td>\n",
       "      <td>...</td>\n",
       "      <td>4.145</td>\n",
       "      <td>4.664</td>\n",
       "      <td>4.615</td>\n",
       "      <td>4.462</td>\n",
       "      <td>4.780</td>\n",
       "      <td>4.368</td>\n",
       "      <td>4.182</td>\n",
       "      <td>4.530</td>\n",
       "      <td>4.476</td>\n",
       "      <td>4.225</td>\n",
       "    </tr>\n",
       "    <tr>\n",
       "      <th>1053_at</th>\n",
       "      <td>4.993</td>\n",
       "      <td>4.996</td>\n",
       "      <td>5.056</td>\n",
       "      <td>4.987</td>\n",
       "      <td>4.707</td>\n",
       "      <td>4.987</td>\n",
       "      <td>4.728</td>\n",
       "      <td>4.905</td>\n",
       "      <td>4.987</td>\n",
       "      <td>4.987</td>\n",
       "      <td>...</td>\n",
       "      <td>5.220</td>\n",
       "      <td>4.987</td>\n",
       "      <td>4.991</td>\n",
       "      <td>4.987</td>\n",
       "      <td>4.921</td>\n",
       "      <td>4.703</td>\n",
       "      <td>4.987</td>\n",
       "      <td>5.178</td>\n",
       "      <td>4.980</td>\n",
       "      <td>4.526</td>\n",
       "    </tr>\n",
       "    <tr>\n",
       "      <th>117_at</th>\n",
       "      <td>2.367</td>\n",
       "      <td>2.379</td>\n",
       "      <td>2.369</td>\n",
       "      <td>2.369</td>\n",
       "      <td>2.476</td>\n",
       "      <td>2.380</td>\n",
       "      <td>2.434</td>\n",
       "      <td>2.369</td>\n",
       "      <td>2.510</td>\n",
       "      <td>2.369</td>\n",
       "      <td>...</td>\n",
       "      <td>2.367</td>\n",
       "      <td>2.427</td>\n",
       "      <td>2.373</td>\n",
       "      <td>2.365</td>\n",
       "      <td>2.369</td>\n",
       "      <td>2.369</td>\n",
       "      <td>2.369</td>\n",
       "      <td>2.369</td>\n",
       "      <td>2.383</td>\n",
       "      <td>2.366</td>\n",
       "    </tr>\n",
       "    <tr>\n",
       "      <th>121_at</th>\n",
       "      <td>3.087</td>\n",
       "      <td>3.087</td>\n",
       "      <td>3.069</td>\n",
       "      <td>3.087</td>\n",
       "      <td>3.087</td>\n",
       "      <td>3.087</td>\n",
       "      <td>3.087</td>\n",
       "      <td>3.087</td>\n",
       "      <td>3.087</td>\n",
       "      <td>3.076</td>\n",
       "      <td>...</td>\n",
       "      <td>3.087</td>\n",
       "      <td>3.087</td>\n",
       "      <td>3.087</td>\n",
       "      <td>3.087</td>\n",
       "      <td>3.087</td>\n",
       "      <td>3.087</td>\n",
       "      <td>3.087</td>\n",
       "      <td>3.087</td>\n",
       "      <td>3.087</td>\n",
       "      <td>3.081</td>\n",
       "    </tr>\n",
       "    <tr>\n",
       "      <th>1255_g_at</th>\n",
       "      <td>2.358</td>\n",
       "      <td>2.358</td>\n",
       "      <td>2.358</td>\n",
       "      <td>2.358</td>\n",
       "      <td>2.358</td>\n",
       "      <td>2.358</td>\n",
       "      <td>2.358</td>\n",
       "      <td>2.358</td>\n",
       "      <td>2.358</td>\n",
       "      <td>2.358</td>\n",
       "      <td>...</td>\n",
       "      <td>2.358</td>\n",
       "      <td>2.358</td>\n",
       "      <td>2.358</td>\n",
       "      <td>2.358</td>\n",
       "      <td>2.358</td>\n",
       "      <td>2.358</td>\n",
       "      <td>2.358</td>\n",
       "      <td>2.358</td>\n",
       "      <td>2.358</td>\n",
       "      <td>2.358</td>\n",
       "    </tr>\n",
       "  </tbody>\n",
       "</table>\n",
       "<p>5 rows × 72 columns</p>\n",
       "</div>"
      ],
      "text/plain": [
       "           GSM789110  GSM789111  GSM789112  GSM789113  GSM789114  GSM789115  \\\n",
       "ID_REF                                                                        \n",
       "1007_s_at      5.043      4.739      4.728      4.480      4.479      5.410   \n",
       "1053_at        4.993      4.996      5.056      4.987      4.707      4.987   \n",
       "117_at         2.367      2.379      2.369      2.369      2.476      2.380   \n",
       "121_at         3.087      3.087      3.069      3.087      3.087      3.087   \n",
       "1255_g_at      2.358      2.358      2.358      2.358      2.358      2.358   \n",
       "\n",
       "           GSM789116  GSM789117  GSM789118  GSM789119  ...  GSM789172  \\\n",
       "ID_REF                                                 ...              \n",
       "1007_s_at      4.435      4.424      4.624      4.568  ...      4.145   \n",
       "1053_at        4.728      4.905      4.987      4.987  ...      5.220   \n",
       "117_at         2.434      2.369      2.510      2.369  ...      2.367   \n",
       "121_at         3.087      3.087      3.087      3.076  ...      3.087   \n",
       "1255_g_at      2.358      2.358      2.358      2.358  ...      2.358   \n",
       "\n",
       "           GSM789173  GSM789174  GSM789175  GSM789176  GSM789177  GSM789178  \\\n",
       "ID_REF                                                                        \n",
       "1007_s_at      4.664      4.615      4.462      4.780      4.368      4.182   \n",
       "1053_at        4.987      4.991      4.987      4.921      4.703      4.987   \n",
       "117_at         2.427      2.373      2.365      2.369      2.369      2.369   \n",
       "121_at         3.087      3.087      3.087      3.087      3.087      3.087   \n",
       "1255_g_at      2.358      2.358      2.358      2.358      2.358      2.358   \n",
       "\n",
       "           GSM789179  GSM789180  GSM789181  \n",
       "ID_REF                                      \n",
       "1007_s_at      4.530      4.476      4.225  \n",
       "1053_at        5.178      4.980      4.526  \n",
       "117_at         2.369      2.383      2.366  \n",
       "121_at         3.087      3.087      3.081  \n",
       "1255_g_at      2.358      2.358      2.358  \n",
       "\n",
       "[5 rows x 72 columns]"
      ]
     },
     "execution_count": 6,
     "metadata": {},
     "output_type": "execute_result"
    }
   ],
   "source": [
    "data = []\n",
    "for i, (gsm_name, gsm) in enumerate(gse.gsms.items()):\n",
    "    table = gsm.table\n",
    "    table.columns = ['ID_REF', gsm_name]\n",
    "    data.append(table if i == 0 else table[gsm_name])\n",
    "data = pd.concat(data, axis=1)\n",
    "data.set_index('ID_REF', inplace=True)\n",
    "\n",
    "data.head()"
   ]
  },
  {
   "cell_type": "markdown",
   "metadata": {},
   "source": [
    "Let's plot the distribution of intensities. It seems there was some normalization done on this data. Gene expression values per sample seem to have the same scale."
   ]
  },
  {
   "cell_type": "code",
   "execution_count": 7,
   "metadata": {},
   "outputs": [
    {
     "data": {
      "image/png": "[encoded data removed]",
      "text/plain": [
       "<Figure size 2000x500 with 1 Axes>"
      ]
     },
     "metadata": {},
     "output_type": "display_data"
    }
   ],
   "source": [
    "values = data.values.astype(float)\n",
    "\n",
    "plt.figure(figsize=(20, 5))\n",
    "plt.boxplot(values, tick_labels=data.columns, showfliers=False)\n",
    "plt.xticks(rotation=90)\n",
    "plt.ylabel('Expression')\n",
    "plt.tight_layout()\n",
    "plt.show()"
   ]
  },
  {
   "cell_type": "markdown",
   "metadata": {},
   "source": [
    "Finally, we look at the platform data to search for gene symbols. Our GSE object (naturally) has one single platform."
   ]
  },
  {
   "cell_type": "code",
   "execution_count": 8,
   "metadata": {},
   "outputs": [
    {
     "data": {
      "text/plain": [
       "dict_items([('GPL570', <d: GPL570>)])"
      ]
     },
     "execution_count": 8,
     "metadata": {},
     "output_type": "execute_result"
    }
   ],
   "source": [
    "gse.gpls.items()"
   ]
  },
  {
   "cell_type": "markdown",
   "metadata": {},
   "source": [
    "The platform metadata contains relevant information, like the microarray's name, GEO accession ID, and number of probes. The table data contains information about each probe."
   ]
  },
  {
   "cell_type": "code",
   "execution_count": 9,
   "metadata": {},
   "outputs": [
    {
     "name": "stdout",
     "output_type": "stream",
     "text": [
      "Title:  [HG-U133_Plus_2] Affymetrix Human Genome U133 Plus 2.0 Array\n",
      "GEO Accession:  GPL570\n",
      "Number of probes:  54675\n"
     ]
    },
    {
     "data": {
      "text/html": [
       "<div>\n",
       "<style scoped>\n",
       "    .dataframe tbody tr th:only-of-type {\n",
       "        vertical-align: middle;\n",
       "    }\n",
       "\n",
       "    .dataframe tbody tr th {\n",
       "        vertical-align: top;\n",
       "    }\n",
       "\n",
       "    .dataframe thead th {\n",
       "        text-align: right;\n",
       "    }\n",
       "</style>\n",
       "<table border=\"1\" class=\"dataframe\">\n",
       "  <thead>\n",
       "    <tr style=\"text-align: right;\">\n",
       "      <th></th>\n",
       "      <th>ID</th>\n",
       "      <th>GB_ACC</th>\n",
       "      <th>SPOT_ID</th>\n",
       "      <th>Species Scientific Name</th>\n",
       "      <th>Annotation Date</th>\n",
       "      <th>Sequence Type</th>\n",
       "      <th>Sequence Source</th>\n",
       "      <th>Target Description</th>\n",
       "      <th>Representative Public ID</th>\n",
       "      <th>Gene Title</th>\n",
       "      <th>Gene Symbol</th>\n",
       "      <th>ENTREZ_GENE_ID</th>\n",
       "      <th>RefSeq Transcript ID</th>\n",
       "      <th>Gene Ontology Biological Process</th>\n",
       "      <th>Gene Ontology Cellular Component</th>\n",
       "      <th>Gene Ontology Molecular Function</th>\n",
       "    </tr>\n",
       "  </thead>\n",
       "  <tbody>\n",
       "    <tr>\n",
       "      <th>0</th>\n",
       "      <td>1007_s_at</td>\n",
       "      <td>U48705</td>\n",
       "      <td>NaN</td>\n",
       "      <td>Homo sapiens</td>\n",
       "      <td>Oct 6, 2014</td>\n",
       "      <td>Exemplar sequence</td>\n",
       "      <td>Affymetrix Proprietary Database</td>\n",
       "      <td>U48705 /FEATURE=mRNA /DEFINITION=HSU48705 Huma...</td>\n",
       "      <td>U48705</td>\n",
       "      <td>discoidin domain receptor tyrosine kinase 1 //...</td>\n",
       "      <td>DDR1 /// MIR4640</td>\n",
       "      <td>780 /// 100616237</td>\n",
       "      <td>NM_001202521 /// NM_001202522 /// NM_001202523...</td>\n",
       "      <td>0001558 // regulation of cell growth // inferr...</td>\n",
       "      <td>0005576 // extracellular region // inferred fr...</td>\n",
       "      <td>0000166 // nucleotide binding // inferred from...</td>\n",
       "    </tr>\n",
       "    <tr>\n",
       "      <th>1</th>\n",
       "      <td>1053_at</td>\n",
       "      <td>M87338</td>\n",
       "      <td>NaN</td>\n",
       "      <td>Homo sapiens</td>\n",
       "      <td>Oct 6, 2014</td>\n",
       "      <td>Exemplar sequence</td>\n",
       "      <td>GenBank</td>\n",
       "      <td>M87338 /FEATURE= /DEFINITION=HUMA1SBU Human re...</td>\n",
       "      <td>M87338</td>\n",
       "      <td>replication factor C (activator 1) 2, 40kDa</td>\n",
       "      <td>RFC2</td>\n",
       "      <td>5982</td>\n",
       "      <td>NM_001278791 /// NM_001278792 /// NM_001278793...</td>\n",
       "      <td>0000278 // mitotic cell cycle // traceable aut...</td>\n",
       "      <td>0005634 // nucleus // inferred from electronic...</td>\n",
       "      <td>0000166 // nucleotide binding // inferred from...</td>\n",
       "    </tr>\n",
       "    <tr>\n",
       "      <th>2</th>\n",
       "      <td>117_at</td>\n",
       "      <td>X51757</td>\n",
       "      <td>NaN</td>\n",
       "      <td>Homo sapiens</td>\n",
       "      <td>Oct 6, 2014</td>\n",
       "      <td>Exemplar sequence</td>\n",
       "      <td>Affymetrix Proprietary Database</td>\n",
       "      <td>X51757 /FEATURE=cds /DEFINITION=HSP70B Human h...</td>\n",
       "      <td>X51757</td>\n",
       "      <td>heat shock 70kDa protein 6 (HSP70B')</td>\n",
       "      <td>HSPA6</td>\n",
       "      <td>3310</td>\n",
       "      <td>NM_002155</td>\n",
       "      <td>0000902 // cell morphogenesis // inferred from...</td>\n",
       "      <td>0005737 // cytoplasm // inferred from direct a...</td>\n",
       "      <td>0000166 // nucleotide binding // inferred from...</td>\n",
       "    </tr>\n",
       "  </tbody>\n",
       "</table>\n",
       "</div>"
      ],
      "text/plain": [
       "          ID  GB_ACC SPOT_ID Species Scientific Name Annotation Date  \\\n",
       "0  1007_s_at  U48705     NaN            Homo sapiens     Oct 6, 2014   \n",
       "1    1053_at  M87338     NaN            Homo sapiens     Oct 6, 2014   \n",
       "2     117_at  X51757     NaN            Homo sapiens     Oct 6, 2014   \n",
       "\n",
       "       Sequence Type                  Sequence Source  \\\n",
       "0  Exemplar sequence  Affymetrix Proprietary Database   \n",
       "1  Exemplar sequence                          GenBank   \n",
       "2  Exemplar sequence  Affymetrix Proprietary Database   \n",
       "\n",
       "                                  Target Description Representative Public ID  \\\n",
       "0  U48705 /FEATURE=mRNA /DEFINITION=HSU48705 Huma...                   U48705   \n",
       "1  M87338 /FEATURE= /DEFINITION=HUMA1SBU Human re...                   M87338   \n",
       "2  X51757 /FEATURE=cds /DEFINITION=HSP70B Human h...                   X51757   \n",
       "\n",
       "                                          Gene Title       Gene Symbol  \\\n",
       "0  discoidin domain receptor tyrosine kinase 1 //...  DDR1 /// MIR4640   \n",
       "1        replication factor C (activator 1) 2, 40kDa              RFC2   \n",
       "2               heat shock 70kDa protein 6 (HSP70B')             HSPA6   \n",
       "\n",
       "      ENTREZ_GENE_ID                               RefSeq Transcript ID  \\\n",
       "0  780 /// 100616237  NM_001202521 /// NM_001202522 /// NM_001202523...   \n",
       "1               5982  NM_001278791 /// NM_001278792 /// NM_001278793...   \n",
       "2               3310                                          NM_002155   \n",
       "\n",
       "                    Gene Ontology Biological Process  \\\n",
       "0  0001558 // regulation of cell growth // inferr...   \n",
       "1  0000278 // mitotic cell cycle // traceable aut...   \n",
       "2  0000902 // cell morphogenesis // inferred from...   \n",
       "\n",
       "                    Gene Ontology Cellular Component  \\\n",
       "0  0005576 // extracellular region // inferred fr...   \n",
       "1  0005634 // nucleus // inferred from electronic...   \n",
       "2  0005737 // cytoplasm // inferred from direct a...   \n",
       "\n",
       "                    Gene Ontology Molecular Function  \n",
       "0  0000166 // nucleotide binding // inferred from...  \n",
       "1  0000166 // nucleotide binding // inferred from...  \n",
       "2  0000166 // nucleotide binding // inferred from...  "
      ]
     },
     "execution_count": 9,
     "metadata": {},
     "output_type": "execute_result"
    }
   ],
   "source": [
    "gpl = list(gse.gpls.values())[0]\n",
    "\n",
    "print('Title: ', gpl.metadata['title'][0])\n",
    "print('GEO Accession: ', gpl.metadata['geo_accession'][0])\n",
    "print('Number of probes: ', gpl.metadata['data_row_count'][0])\n",
    "\n",
    "gpl_table = gpl.table\n",
    "gpl_table.head(3)"
   ]
  },
  {
   "cell_type": "markdown",
   "metadata": {},
   "source": [
    "Here, we are interested in gene symbols. Hence, we drop those probes with no symbol information. We retain 45,782 probes with 23,520 unique genes."
   ]
  },
  {
   "cell_type": "code",
   "execution_count": 10,
   "metadata": {},
   "outputs": [
    {
     "name": "stdout",
     "output_type": "stream",
     "text": [
      "Number of clean probes: 45782\n",
      "Number of unique genes: 23520\n",
      "Example genes: ['FABP6' 'LOC101928001' 'KLC1' 'GPX2' 'LOC102724275']\n"
     ]
    }
   ],
   "source": [
    "symbols = gpl_table['Gene Symbol'].dropna()\n",
    "print(f'Number of clean probes: {len(symbols)}')\n",
    "print(f'Number of unique genes: {len(symbols.unique())}')\n",
    "print(f'Example genes: {symbols.sample(5).values}')"
   ]
  }
 ],
 "metadata": {
  "kernelspec": {
   "display_name": "bio",
   "language": "python",
   "name": "python3"
  },
  "language_info": {
   "codemirror_mode": {
    "name": "ipython",
    "version": 3
   },
   "file_extension": ".py",
   "mimetype": "text/x-python",
   "name": "python",
   "nbconvert_exporter": "python",
   "pygments_lexer": "ipython3",
   "version": "3.9.20"
  }
 },
 "nbformat": 4,
 "nbformat_minor": 2
}
