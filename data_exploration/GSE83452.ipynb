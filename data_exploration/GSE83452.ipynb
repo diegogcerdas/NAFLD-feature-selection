{
 "cells": [
  {
   "cell_type": "code",
   "execution_count": 108,
   "metadata": {},
   "outputs": [],
   "source": [
    "import GEOparse\n",
    "import pandas as pd\n",
    "import numpy as np\n",
    "import re\n",
    "import itertools\n",
    "import matplotlib.pyplot as plt\n",
    "import multiprocessing\n",
    "from tqdm import tqdm\n",
    "import os\n",
    "\n",
    "import sys\n",
    "sys.path.append('../')\n",
    "from utils import genbank_to_gene_symbol"
   ]
  },
  {
   "cell_type": "markdown",
   "metadata": {},
   "source": [
    "# GSE83452"
   ]
  },
  {
   "cell_type": "markdown",
   "metadata": {},
   "source": [
    "This notebook provides a brief exploration of the [GSE83452 dataset](https://www.ncbi.nlm.nih.gov/geo/query/acc.cgi?acc=GSE83452). Our goal is to extract (1) gene expression intensity values, (2) the condition of each patient, and (3) a symbol for each gene in the dataset.\n",
    "\n",
    "We start by loading the dataset with GEOparse and creating a cycling iterator to go through all GEO samples."
   ]
  },
  {
   "cell_type": "code",
   "execution_count": 2,
   "metadata": {},
   "outputs": [],
   "source": [
    "gse = GEOparse.get_GEO(geo=\"GSE83452\", destdir='../data', silent=True)\n",
    "gsm_cycler = itertools.cycle(gse.gsms.items())"
   ]
  },
  {
   "cell_type": "markdown",
   "metadata": {},
   "source": [
    "Here, we visualize single GEO samples, each represented by a DataFrame containing probes as rows and a `VALUE` column with the gene expression intensity values."
   ]
  },
  {
   "cell_type": "code",
   "execution_count": 3,
   "metadata": {},
   "outputs": [
    {
     "name": "stdout",
     "output_type": "stream",
     "text": [
      "count    53617.000000\n",
      "mean         4.131917\n",
      "std          1.876155\n",
      "min          0.648688\n",
      "25%          2.672670\n",
      "50%          3.930520\n",
      "75%          5.274930\n",
      "max         13.157700\n",
      "Name: VALUE, dtype: float64\n"
     ]
    },
    {
     "data": {
      "text/html": [
       "<div>\n",
       "<style scoped>\n",
       "    .dataframe tbody tr th:only-of-type {\n",
       "        vertical-align: middle;\n",
       "    }\n",
       "\n",
       "    .dataframe tbody tr th {\n",
       "        vertical-align: top;\n",
       "    }\n",
       "\n",
       "    .dataframe thead th {\n",
       "        text-align: right;\n",
       "    }\n",
       "</style>\n",
       "<table border=\"1\" class=\"dataframe\">\n",
       "  <thead>\n",
       "    <tr style=\"text-align: right;\">\n",
       "      <th></th>\n",
       "      <th>ID_REF</th>\n",
       "      <th>VALUE</th>\n",
       "    </tr>\n",
       "  </thead>\n",
       "  <tbody>\n",
       "    <tr>\n",
       "      <th>0</th>\n",
       "      <td>16650001</td>\n",
       "      <td>1.79130</td>\n",
       "    </tr>\n",
       "    <tr>\n",
       "      <th>1</th>\n",
       "      <td>16650003</td>\n",
       "      <td>2.78755</td>\n",
       "    </tr>\n",
       "    <tr>\n",
       "      <th>2</th>\n",
       "      <td>16650005</td>\n",
       "      <td>2.72220</td>\n",
       "    </tr>\n",
       "    <tr>\n",
       "      <th>3</th>\n",
       "      <td>16650007</td>\n",
       "      <td>1.85995</td>\n",
       "    </tr>\n",
       "    <tr>\n",
       "      <th>4</th>\n",
       "      <td>16650009</td>\n",
       "      <td>1.64618</td>\n",
       "    </tr>\n",
       "  </tbody>\n",
       "</table>\n",
       "</div>"
      ],
      "text/plain": [
       "     ID_REF    VALUE\n",
       "0  16650001  1.79130\n",
       "1  16650003  2.78755\n",
       "2  16650005  2.72220\n",
       "3  16650007  1.85995\n",
       "4  16650009  1.64618"
      ]
     },
     "execution_count": 3,
     "metadata": {},
     "output_type": "execute_result"
    }
   ],
   "source": [
    "gsm_name, gsm = next(gsm_cycler)\n",
    "table = gsm.table\n",
    "print(table['VALUE'].describe())\n",
    "table.head()"
   ]
  },
  {
   "cell_type": "markdown",
   "metadata": {},
   "source": [
    "Each GEO sample contains relevant metadata."
   ]
  },
  {
   "cell_type": "code",
   "execution_count": 4,
   "metadata": {},
   "outputs": [
    {
     "name": "stdout",
     "output_type": "stream",
     "text": [
      "title: ['liver biopsy 2']\n",
      "geo_accession: ['GSM2203255']\n",
      "status: ['Public on Jul 11 2017']\n",
      "submission_date: ['Jun 16 2016']\n",
      "last_update_date: ['Jul 11 2017']\n",
      "type: ['RNA']\n",
      "channel_count: ['1']\n",
      "source_name_ch1: ['NASH liver baseline']\n",
      "organism_ch1: ['Homo sapiens']\n",
      "taxid_ch1: ['9606']\n",
      "characteristics_ch1: ['sample name: patient 2', 'liver status: NASH', 'type of intervention: BS', 'time: baseline', 'age: 36', 'gender: male', 'scan date: 10/30/2013', 'tissue: liver biopsy']\n",
      "molecule_ch1: ['total RNA']\n",
      "extract_protocol_ch1: [\"Trizol extraction of total RNA was performed according to the manufacturer's instructions. Clean-up RNA with DNAse treatment were performed with Rneasy microkit Qiagen according to the manufacturer's instructions\"]\n",
      "label_ch1: ['Biotin']\n",
      "label_protocol_ch1: ['Biotinylated ssDNA were prepared according to the standard Affymetrix protocol from 100ng total RNA (GeneChip® WT PLUS Reagent Kit, Affymetrix).']\n",
      "hyb_protocol: ['Following fragmentation, 5.5µg of ssDNA were hybridized for 16 hr at 45C on GeneChip®Human Gene 2.0 ST Array. GeneChips were washed and stained in the Affymetrix Fluidics Station 400.']\n",
      "scan_protocol: ['GeneChips were scanned using GeneChip Scanner GCS3000.']\n",
      "data_processing: ['The data were analyzed with Partek Genomics Suite 6.6 using Affymetrix default analysis settings and global scaling as normalization method.']\n",
      "platform_id: ['GPL16686']\n",
      "contact_name: ['Lefebvre,,Philippe']\n",
      "contact_laboratory: ['JK']\n",
      "contact_institute: ['Inserm']\n",
      "contact_address: ['Bld Pr Jules Leclerc']\n",
      "contact_city: ['Lille']\n",
      "contact_zip/postal_code: ['59000']\n",
      "contact_country: ['France']\n",
      "supplementary_file: ['ftp://ftp.ncbi.nlm.nih.gov/geo/samples/GSM2203nnn/GSM2203255/suppl/GSM2203255_02_HuGene-2_0-st_.CEL.gz']\n",
      "series_id: ['GSE83452']\n",
      "data_row_count: ['53617']\n"
     ]
    }
   ],
   "source": [
    "gsm_name, gsm = next(gsm_cycler)\n",
    "\n",
    "for k, v in gsm.metadata.items():\n",
    "    print(f'{k}: {v}')"
   ]
  },
  {
   "cell_type": "markdown",
   "metadata": {},
   "source": [
    "We are interested in knowing the condition of each patient; hence, we extract it from the `characteristics_ch1` value. We will only keep the baseline patients (no follow-up). The dataset contains 44 control patients, 104 patients with NASH and 4 undefined. For integration with other datasets, we map these names to _control_, _NASH_, and _other_."
   ]
  },
  {
   "cell_type": "code",
   "execution_count": 5,
   "metadata": {},
   "outputs": [
    {
     "name": "stdout",
     "output_type": "stream",
     "text": [
      "Original conditions:  ['NASH' 'no NASH' 'undefined']\n",
      "Conditions:\n",
      "- NASH: 104\n",
      "- control: 44\n",
      "- other: 4\n"
     ]
    }
   ],
   "source": [
    "times = [next((item.split(\": \")[1] for item in gsm.metadata['characteristics_ch1'] if item.startswith(\"time:\")), None) for _, gsm in gse.gsms.items()]\n",
    "keep = np.array(times) == 'baseline'\n",
    "\n",
    "geo_accessions = [gsm.metadata['geo_accession'][0] for _, gsm in gse.gsms.items()]\n",
    "stages = [next((item.split(\": \")[1] for item in gsm.metadata['characteristics_ch1'] if item.startswith(\"liver status:\")), None) for _, gsm in gse.gsms.items()]\n",
    "stages = np.array(stages)[keep]\n",
    "print('Original conditions: ', np.unique(stages))\n",
    "mapping = {'undefined': 'other', 'no NASH': 'control', 'NASH': 'NASH'}\n",
    "stages = [mapping[stage] for stage in stages]\n",
    "values, counts = np.unique(stages, return_counts=True)\n",
    "\n",
    "print('Conditions:')\n",
    "for stage, count in zip(values, counts):\n",
    "    print(f'- {stage}: {count}')"
   ]
  },
  {
   "cell_type": "markdown",
   "metadata": {},
   "source": [
    "Now we gather all samples in a single DataFrame."
   ]
  },
  {
   "cell_type": "code",
   "execution_count": 6,
   "metadata": {},
   "outputs": [
    {
     "data": {
      "text/html": [
       "<div>\n",
       "<style scoped>\n",
       "    .dataframe tbody tr th:only-of-type {\n",
       "        vertical-align: middle;\n",
       "    }\n",
       "\n",
       "    .dataframe tbody tr th {\n",
       "        vertical-align: top;\n",
       "    }\n",
       "\n",
       "    .dataframe thead th {\n",
       "        text-align: right;\n",
       "    }\n",
       "</style>\n",
       "<table border=\"1\" class=\"dataframe\">\n",
       "  <thead>\n",
       "    <tr style=\"text-align: right;\">\n",
       "      <th></th>\n",
       "      <th>GSM2203254</th>\n",
       "      <th>GSM2203255</th>\n",
       "      <th>GSM2203258</th>\n",
       "      <th>GSM2203259</th>\n",
       "      <th>GSM2203262</th>\n",
       "      <th>GSM2203265</th>\n",
       "      <th>GSM2203268</th>\n",
       "      <th>GSM2203269</th>\n",
       "      <th>GSM2203272</th>\n",
       "      <th>GSM2203273</th>\n",
       "      <th>...</th>\n",
       "      <th>GSM2203473</th>\n",
       "      <th>GSM2203474</th>\n",
       "      <th>GSM2203475</th>\n",
       "      <th>GSM2203476</th>\n",
       "      <th>GSM2203477</th>\n",
       "      <th>GSM2203479</th>\n",
       "      <th>GSM2203480</th>\n",
       "      <th>GSM2203481</th>\n",
       "      <th>GSM2203483</th>\n",
       "      <th>GSM2203484</th>\n",
       "    </tr>\n",
       "    <tr>\n",
       "      <th>ID_REF</th>\n",
       "      <th></th>\n",
       "      <th></th>\n",
       "      <th></th>\n",
       "      <th></th>\n",
       "      <th></th>\n",
       "      <th></th>\n",
       "      <th></th>\n",
       "      <th></th>\n",
       "      <th></th>\n",
       "      <th></th>\n",
       "      <th></th>\n",
       "      <th></th>\n",
       "      <th></th>\n",
       "      <th></th>\n",
       "      <th></th>\n",
       "      <th></th>\n",
       "      <th></th>\n",
       "      <th></th>\n",
       "      <th></th>\n",
       "      <th></th>\n",
       "      <th></th>\n",
       "    </tr>\n",
       "  </thead>\n",
       "  <tbody>\n",
       "    <tr>\n",
       "      <th>16650001</th>\n",
       "      <td>1.79130</td>\n",
       "      <td>1.65554</td>\n",
       "      <td>2.16053</td>\n",
       "      <td>1.97619</td>\n",
       "      <td>1.27673</td>\n",
       "      <td>1.79229</td>\n",
       "      <td>1.53117</td>\n",
       "      <td>1.70543</td>\n",
       "      <td>2.22094</td>\n",
       "      <td>1.61602</td>\n",
       "      <td>...</td>\n",
       "      <td>1.42847</td>\n",
       "      <td>1.19757</td>\n",
       "      <td>1.52731</td>\n",
       "      <td>1.07109</td>\n",
       "      <td>1.36751</td>\n",
       "      <td>1.61609</td>\n",
       "      <td>1.63795</td>\n",
       "      <td>2.02513</td>\n",
       "      <td>2.08370</td>\n",
       "      <td>1.72153</td>\n",
       "    </tr>\n",
       "    <tr>\n",
       "      <th>16650003</th>\n",
       "      <td>2.78755</td>\n",
       "      <td>1.81902</td>\n",
       "      <td>2.20186</td>\n",
       "      <td>3.10035</td>\n",
       "      <td>2.18813</td>\n",
       "      <td>1.92126</td>\n",
       "      <td>1.22898</td>\n",
       "      <td>2.22192</td>\n",
       "      <td>2.19172</td>\n",
       "      <td>2.34115</td>\n",
       "      <td>...</td>\n",
       "      <td>2.52917</td>\n",
       "      <td>1.68349</td>\n",
       "      <td>2.89237</td>\n",
       "      <td>2.32084</td>\n",
       "      <td>2.61395</td>\n",
       "      <td>1.93650</td>\n",
       "      <td>2.05539</td>\n",
       "      <td>2.45931</td>\n",
       "      <td>2.36854</td>\n",
       "      <td>2.54683</td>\n",
       "    </tr>\n",
       "    <tr>\n",
       "      <th>16650005</th>\n",
       "      <td>2.72220</td>\n",
       "      <td>2.43132</td>\n",
       "      <td>2.50152</td>\n",
       "      <td>3.03165</td>\n",
       "      <td>3.04206</td>\n",
       "      <td>2.45832</td>\n",
       "      <td>3.21054</td>\n",
       "      <td>2.10939</td>\n",
       "      <td>2.62428</td>\n",
       "      <td>2.08006</td>\n",
       "      <td>...</td>\n",
       "      <td>3.97090</td>\n",
       "      <td>2.45031</td>\n",
       "      <td>3.76014</td>\n",
       "      <td>2.31483</td>\n",
       "      <td>4.20759</td>\n",
       "      <td>4.35574</td>\n",
       "      <td>3.74464</td>\n",
       "      <td>3.53916</td>\n",
       "      <td>3.38904</td>\n",
       "      <td>3.91531</td>\n",
       "    </tr>\n",
       "    <tr>\n",
       "      <th>16650007</th>\n",
       "      <td>1.85995</td>\n",
       "      <td>2.98570</td>\n",
       "      <td>1.88125</td>\n",
       "      <td>2.09735</td>\n",
       "      <td>2.65538</td>\n",
       "      <td>2.74071</td>\n",
       "      <td>2.77717</td>\n",
       "      <td>2.70642</td>\n",
       "      <td>1.75788</td>\n",
       "      <td>2.40195</td>\n",
       "      <td>...</td>\n",
       "      <td>1.53167</td>\n",
       "      <td>2.75837</td>\n",
       "      <td>2.31899</td>\n",
       "      <td>1.72922</td>\n",
       "      <td>2.04184</td>\n",
       "      <td>2.86784</td>\n",
       "      <td>2.72813</td>\n",
       "      <td>1.88561</td>\n",
       "      <td>1.96488</td>\n",
       "      <td>1.94075</td>\n",
       "    </tr>\n",
       "    <tr>\n",
       "      <th>16650009</th>\n",
       "      <td>1.64618</td>\n",
       "      <td>1.39880</td>\n",
       "      <td>1.66951</td>\n",
       "      <td>1.45954</td>\n",
       "      <td>1.29823</td>\n",
       "      <td>1.35632</td>\n",
       "      <td>1.14080</td>\n",
       "      <td>1.25253</td>\n",
       "      <td>1.11181</td>\n",
       "      <td>1.04873</td>\n",
       "      <td>...</td>\n",
       "      <td>1.17227</td>\n",
       "      <td>1.15955</td>\n",
       "      <td>1.03668</td>\n",
       "      <td>1.21939</td>\n",
       "      <td>1.08816</td>\n",
       "      <td>1.09980</td>\n",
       "      <td>1.05967</td>\n",
       "      <td>1.32811</td>\n",
       "      <td>1.51019</td>\n",
       "      <td>2.06859</td>\n",
       "    </tr>\n",
       "  </tbody>\n",
       "</table>\n",
       "<p>5 rows × 152 columns</p>\n",
       "</div>"
      ],
      "text/plain": [
       "          GSM2203254  GSM2203255  GSM2203258  GSM2203259  GSM2203262  \\\n",
       "ID_REF                                                                 \n",
       "16650001     1.79130     1.65554     2.16053     1.97619     1.27673   \n",
       "16650003     2.78755     1.81902     2.20186     3.10035     2.18813   \n",
       "16650005     2.72220     2.43132     2.50152     3.03165     3.04206   \n",
       "16650007     1.85995     2.98570     1.88125     2.09735     2.65538   \n",
       "16650009     1.64618     1.39880     1.66951     1.45954     1.29823   \n",
       "\n",
       "          GSM2203265  GSM2203268  GSM2203269  GSM2203272  GSM2203273  ...  \\\n",
       "ID_REF                                                                ...   \n",
       "16650001     1.79229     1.53117     1.70543     2.22094     1.61602  ...   \n",
       "16650003     1.92126     1.22898     2.22192     2.19172     2.34115  ...   \n",
       "16650005     2.45832     3.21054     2.10939     2.62428     2.08006  ...   \n",
       "16650007     2.74071     2.77717     2.70642     1.75788     2.40195  ...   \n",
       "16650009     1.35632     1.14080     1.25253     1.11181     1.04873  ...   \n",
       "\n",
       "          GSM2203473  GSM2203474  GSM2203475  GSM2203476  GSM2203477  \\\n",
       "ID_REF                                                                 \n",
       "16650001     1.42847     1.19757     1.52731     1.07109     1.36751   \n",
       "16650003     2.52917     1.68349     2.89237     2.32084     2.61395   \n",
       "16650005     3.97090     2.45031     3.76014     2.31483     4.20759   \n",
       "16650007     1.53167     2.75837     2.31899     1.72922     2.04184   \n",
       "16650009     1.17227     1.15955     1.03668     1.21939     1.08816   \n",
       "\n",
       "          GSM2203479  GSM2203480  GSM2203481  GSM2203483  GSM2203484  \n",
       "ID_REF                                                                \n",
       "16650001     1.61609     1.63795     2.02513     2.08370     1.72153  \n",
       "16650003     1.93650     2.05539     2.45931     2.36854     2.54683  \n",
       "16650005     4.35574     3.74464     3.53916     3.38904     3.91531  \n",
       "16650007     2.86784     2.72813     1.88561     1.96488     1.94075  \n",
       "16650009     1.09980     1.05967     1.32811     1.51019     2.06859  \n",
       "\n",
       "[5 rows x 152 columns]"
      ]
     },
     "execution_count": 6,
     "metadata": {},
     "output_type": "execute_result"
    }
   ],
   "source": [
    "data = []\n",
    "for i, (gsm_name, gsm) in enumerate(gse.gsms.items()):\n",
    "    if not keep[i]:\n",
    "        continue\n",
    "    table = gsm.table[['ID_REF', 'VALUE']]\n",
    "    table.columns = ['ID_REF', gsm_name]\n",
    "    data.append(table if i == 0 else table[gsm_name])\n",
    "data = pd.concat(data, axis=1)\n",
    "data.set_index('ID_REF', inplace=True)\n",
    "\n",
    "data.head()"
   ]
  },
  {
   "cell_type": "markdown",
   "metadata": {},
   "source": [
    "Let's plot the distribution of intensities. It seems there was some normalization done on this data. Gene expression values per sample seem to have the same scale."
   ]
  },
  {
   "cell_type": "code",
   "execution_count": 7,
   "metadata": {},
   "outputs": [
    {
     "data": {
      "image/png": "[encoded data removed]",
      "text/plain": [
       "<Figure size 2000x500 with 1 Axes>"
      ]
     },
     "metadata": {},
     "output_type": "display_data"
    }
   ],
   "source": [
    "values = data.values.astype(float)\n",
    "\n",
    "plt.figure(figsize=(20, 5))\n",
    "plt.boxplot(values, tick_labels=data.columns, showfliers=False)\n",
    "plt.xticks(rotation=90)\n",
    "plt.ylabel('Expression')\n",
    "plt.tight_layout()\n",
    "plt.show()"
   ]
  },
  {
   "cell_type": "markdown",
   "metadata": {},
   "source": [
    "Finally, we look at the platform data to search for gene symbols. Our GSE object (naturally) has one single platform."
   ]
  },
  {
   "cell_type": "code",
   "execution_count": 8,
   "metadata": {},
   "outputs": [
    {
     "data": {
      "text/plain": [
       "dict_items([('GPL16686', <d: GPL16686>)])"
      ]
     },
     "execution_count": 8,
     "metadata": {},
     "output_type": "execute_result"
    }
   ],
   "source": [
    "gse.gpls.items()"
   ]
  },
  {
   "cell_type": "markdown",
   "metadata": {},
   "source": [
    "The platform metadata contains relevant information, like the microarray's name, GEO accession ID, and number of probes. The table data contains information about each probe."
   ]
  },
  {
   "cell_type": "code",
   "execution_count": 9,
   "metadata": {},
   "outputs": [
    {
     "name": "stdout",
     "output_type": "stream",
     "text": [
      "Title:  [HuGene-2_0-st] Affymetrix Human Gene 2.0 ST Array [transcript (gene) version]\n",
      "GEO Accession:  GPL16686\n",
      "Number of probes:  53981\n"
     ]
    },
    {
     "data": {
      "text/html": [
       "<div>\n",
       "<style scoped>\n",
       "    .dataframe tbody tr th:only-of-type {\n",
       "        vertical-align: middle;\n",
       "    }\n",
       "\n",
       "    .dataframe tbody tr th {\n",
       "        vertical-align: top;\n",
       "    }\n",
       "\n",
       "    .dataframe thead th {\n",
       "        text-align: right;\n",
       "    }\n",
       "</style>\n",
       "<table border=\"1\" class=\"dataframe\">\n",
       "  <thead>\n",
       "    <tr style=\"text-align: right;\">\n",
       "      <th></th>\n",
       "      <th>ID</th>\n",
       "      <th>RANGE_STRAND</th>\n",
       "      <th>RANGE_START</th>\n",
       "      <th>RANGE_END</th>\n",
       "      <th>total_probes</th>\n",
       "      <th>GB_ACC</th>\n",
       "      <th>SPOT_ID</th>\n",
       "      <th>RANGE_GB</th>\n",
       "    </tr>\n",
       "  </thead>\n",
       "  <tbody>\n",
       "    <tr>\n",
       "      <th>0</th>\n",
       "      <td>16657436</td>\n",
       "      <td>+</td>\n",
       "      <td>12190.0</td>\n",
       "      <td>13639.0</td>\n",
       "      <td>25.0</td>\n",
       "      <td>NR_046018</td>\n",
       "      <td>chr1:12190-13639</td>\n",
       "      <td>NC_000001.10</td>\n",
       "    </tr>\n",
       "    <tr>\n",
       "      <th>1</th>\n",
       "      <td>16657440</td>\n",
       "      <td>+</td>\n",
       "      <td>29554.0</td>\n",
       "      <td>31109.0</td>\n",
       "      <td>28.0</td>\n",
       "      <td>NaN</td>\n",
       "      <td>chr1:29554-31109</td>\n",
       "      <td>NC_000001.10</td>\n",
       "    </tr>\n",
       "    <tr>\n",
       "      <th>2</th>\n",
       "      <td>16657445</td>\n",
       "      <td>+</td>\n",
       "      <td>69091.0</td>\n",
       "      <td>70008.0</td>\n",
       "      <td>8.0</td>\n",
       "      <td>NaN</td>\n",
       "      <td>chr1:69091-70008</td>\n",
       "      <td>NC_000001.10</td>\n",
       "    </tr>\n",
       "  </tbody>\n",
       "</table>\n",
       "</div>"
      ],
      "text/plain": [
       "         ID RANGE_STRAND  RANGE_START  RANGE_END  total_probes     GB_ACC  \\\n",
       "0  16657436            +      12190.0    13639.0          25.0  NR_046018   \n",
       "1  16657440            +      29554.0    31109.0          28.0        NaN   \n",
       "2  16657445            +      69091.0    70008.0           8.0        NaN   \n",
       "\n",
       "            SPOT_ID      RANGE_GB  \n",
       "0  chr1:12190-13639  NC_000001.10  \n",
       "1  chr1:29554-31109  NC_000001.10  \n",
       "2  chr1:69091-70008  NC_000001.10  "
      ]
     },
     "execution_count": 9,
     "metadata": {},
     "output_type": "execute_result"
    }
   ],
   "source": [
    "gpl = list(gse.gpls.values())[0]\n",
    "\n",
    "print('Title: ', gpl.metadata['title'][0])\n",
    "print('GEO Accession: ', gpl.metadata['geo_accession'][0])\n",
    "print('Number of probes: ', gpl.metadata['data_row_count'][0])\n",
    "\n",
    "gpl_table = gpl.table\n",
    "gpl_table.head(3)"
   ]
  },
  {
   "cell_type": "markdown",
   "metadata": {},
   "source": [
    "Here, we are interested in gene symbols. Unfortunately these are not directly accessible. We will use `biopython` to convert the `GB_ACC` column values to gene symbols. This may take a while, so we will apply multiprocessing and save the results locally for later use."
   ]
  },
  {
   "cell_type": "code",
   "execution_count": 106,
   "metadata": {},
   "outputs": [
    {
     "name": "stderr",
     "output_type": "stream",
     "text": [
      "100%|██████████| 53981/53981 [33:41<00:00, 26.71it/s]  \n"
     ]
    }
   ],
   "source": [
    "f = f\"../data/GSE83452_symbols.npy\" \n",
    "\n",
    "if os.path.exists(f):\n",
    "    symbols = np.load(f)\n",
    "else:\n",
    "    def convert(task):\n",
    "        index = task[0]\n",
    "        value = task[1]\n",
    "        if not isinstance(value, str) and np.isnan(value):\n",
    "            return index, ''\n",
    "        gene_symbol = genbank_to_gene_symbol(value)\n",
    "        if gene_symbol is None:\n",
    "            return index, ''\n",
    "        return index, gene_symbol\n",
    "\n",
    "    tasks = gpl_table['GB_ACC'].values\n",
    "    tasks = list(zip(range(len(tasks)), tasks))\n",
    "    pool = multiprocessing.Pool(processes=8)\n",
    "    symbols = np.empty(len(tasks), dtype=object)\n",
    "    for index, gene_symbol in tqdm(pool.imap_unordered(convert, tasks), total=len(tasks)):\n",
    "        symbols[index] = gene_symbol\n",
    "    symbols = symbols.astype(str)\n",
    "    np.save(f, symbols)"
   ]
  },
  {
   "cell_type": "markdown",
   "metadata": {},
   "source": [
    "We retain 6,160 probes with 5,912 genes."
   ]
  },
  {
   "cell_type": "code",
   "execution_count": 126,
   "metadata": {},
   "outputs": [
    {
     "name": "stdout",
     "output_type": "stream",
     "text": [
      "Number of clean probes: 6160\n",
      "Number of unique genes: 5912\n",
      "Example genes: ['PRAMEF14' 'PLPBP' 'MIR210HG' 'ZNF491' 'RANBP1']\n"
     ]
    }
   ],
   "source": [
    "symbols = symbols[symbols != '']\n",
    "print(f'Number of clean probes: {len(symbols)}')\n",
    "print(f'Number of unique genes: {len(np.unique(symbols))}')\n",
    "print(f'Example genes: {np.random.choice(np.unique(symbols), 5)}')"
   ]
  }
 ],
 "metadata": {
  "kernelspec": {
   "display_name": "bio",
   "language": "python",
   "name": "python3"
  },
  "language_info": {
   "codemirror_mode": {
    "name": "ipython",
    "version": 3
   },
   "file_extension": ".py",
   "mimetype": "text/x-python",
   "name": "python",
   "nbconvert_exporter": "python",
   "pygments_lexer": "ipython3",
   "version": "3.9.20"
  }
 },
 "nbformat": 4,
 "nbformat_minor": 2
}
