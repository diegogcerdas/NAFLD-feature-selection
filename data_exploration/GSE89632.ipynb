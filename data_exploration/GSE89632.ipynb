{
 "cells": [
  {
   "cell_type": "code",
   "execution_count": 1,
   "metadata": {},
   "outputs": [],
   "source": [
    "import GEOparse\n",
    "import pandas as pd\n",
    "import numpy as np\n",
    "import re\n",
    "import itertools\n",
    "import matplotlib.pyplot as plt"
   ]
  },
  {
   "cell_type": "markdown",
   "metadata": {},
   "source": [
    "# GSE89632"
   ]
  },
  {
   "cell_type": "markdown",
   "metadata": {},
   "source": [
    "This notebook provides a brief exploration of the [GSE89632 dataset](https://www.ncbi.nlm.nih.gov/geo/query/acc.cgi?acc=GSE89632). Our goal is to extract (1) gene expression intensity values, (2) the condition of each patient, and (3) a symbol for each gene in the dataset.\n",
    "\n",
    "We start by loading the dataset with GEOparse and creating a cycling iterator to go through all GEO samples."
   ]
  },
  {
   "cell_type": "code",
   "execution_count": 2,
   "metadata": {},
   "outputs": [],
   "source": [
    "gse = GEOparse.get_GEO(geo=\"GSE89632\", destdir='../data', silent=True)\n",
    "gsm_cycler = itertools.cycle(gse.gsms.items())"
   ]
  },
  {
   "cell_type": "markdown",
   "metadata": {},
   "source": [
    "Here, we visualize single GEO samples, each represented by a DataFrame containing probes as rows and a `VALUE` column with the gene expression intensity values."
   ]
  },
  {
   "cell_type": "code",
   "execution_count": 3,
   "metadata": {},
   "outputs": [
    {
     "name": "stdout",
     "output_type": "stream",
     "text": [
      "count    29377.000000\n",
      "mean        10.458177\n",
      "std          1.988316\n",
      "min          7.439051\n",
      "25%          8.678906\n",
      "50%         10.107389\n",
      "75%         12.132462\n",
      "max         15.758859\n",
      "Name: VALUE, dtype: float64\n"
     ]
    },
    {
     "data": {
      "text/html": [
       "<div>\n",
       "<style scoped>\n",
       "    .dataframe tbody tr th:only-of-type {\n",
       "        vertical-align: middle;\n",
       "    }\n",
       "\n",
       "    .dataframe tbody tr th {\n",
       "        vertical-align: top;\n",
       "    }\n",
       "\n",
       "    .dataframe thead th {\n",
       "        text-align: right;\n",
       "    }\n",
       "</style>\n",
       "<table border=\"1\" class=\"dataframe\">\n",
       "  <thead>\n",
       "    <tr style=\"text-align: right;\">\n",
       "      <th></th>\n",
       "      <th>ID_REF</th>\n",
       "      <th>VALUE</th>\n",
       "      <th>Detection Pval</th>\n",
       "    </tr>\n",
       "  </thead>\n",
       "  <tbody>\n",
       "    <tr>\n",
       "      <th>0</th>\n",
       "      <td>ILMN_1802380</td>\n",
       "      <td>12.358835</td>\n",
       "      <td>0.0000</td>\n",
       "    </tr>\n",
       "    <tr>\n",
       "      <th>1</th>\n",
       "      <td>ILMN_1792389</td>\n",
       "      <td>10.625872</td>\n",
       "      <td>0.0000</td>\n",
       "    </tr>\n",
       "    <tr>\n",
       "      <th>2</th>\n",
       "      <td>ILMN_3308818</td>\n",
       "      <td>9.074651</td>\n",
       "      <td>0.0069</td>\n",
       "    </tr>\n",
       "    <tr>\n",
       "      <th>3</th>\n",
       "      <td>ILMN_3242405</td>\n",
       "      <td>14.510260</td>\n",
       "      <td>0.0000</td>\n",
       "    </tr>\n",
       "    <tr>\n",
       "      <th>4</th>\n",
       "      <td>ILMN_2375156</td>\n",
       "      <td>10.159377</td>\n",
       "      <td>0.0000</td>\n",
       "    </tr>\n",
       "  </tbody>\n",
       "</table>\n",
       "</div>"
      ],
      "text/plain": [
       "         ID_REF      VALUE  Detection Pval\n",
       "0  ILMN_1802380  12.358835          0.0000\n",
       "1  ILMN_1792389  10.625872          0.0000\n",
       "2  ILMN_3308818   9.074651          0.0069\n",
       "3  ILMN_3242405  14.510260          0.0000\n",
       "4  ILMN_2375156  10.159377          0.0000"
      ]
     },
     "execution_count": 3,
     "metadata": {},
     "output_type": "execute_result"
    }
   ],
   "source": [
    "gsm_name, gsm = next(gsm_cycler)\n",
    "table = gsm.table\n",
    "print(table['VALUE'].describe())\n",
    "table.head()"
   ]
  },
  {
   "cell_type": "markdown",
   "metadata": {},
   "source": [
    "Each GEO sample contains relevant metadata."
   ]
  },
  {
   "cell_type": "code",
   "execution_count": 4,
   "metadata": {},
   "outputs": [
    {
     "name": "stdout",
     "output_type": "stream",
     "text": [
      "title: ['liver_NASH_CL-87']\n",
      "geo_accession: ['GSM2385721']\n",
      "status: ['Public on Nov 08 2016']\n",
      "submission_date: ['Nov 07 2016']\n",
      "last_update_date: ['Nov 08 2016']\n",
      "type: ['RNA']\n",
      "channel_count: ['1']\n",
      "source_name_ch1: ['liver']\n",
      "organism_ch1: ['Homo sapiens']\n",
      "taxid_ch1: ['9606']\n",
      "characteristics_ch1: ['array ^sample: 8473515021_E', 'diagnosis: NASH', 'steatosis (%): 90', 'fibrosis (stage): 4', 'lobular inflammation (severity): 1', 'ballooning (intensity): 1', 'nafld activity score: 5', 'age (y): 52', 'gender: female', 'aspartate transaminase (u/l): 83', 'alanine transaminase (u/l): 24', 'alkaline phosphatase (u/l): 188', 'triglycerides (mmol/l): 0.99', 'total cholesterol (mmol/l): 2.61', 'ldl cholesterol (mmol/l): 1.48', 'hdl cholesterol (mmol/l): 0.68', 'fasting glucose (mmol/l): 5', 'hemoglobin a1c: 0.053', 'diabetes: no']\n",
      "molecule_ch1: ['total RNA']\n",
      "extract_protocol_ch1: [\"Total RNA was extracted from liver biopsies using the mirVana miRNA Isolation kit (Life Technologies Corp., Carlsbad, CA, USA). RNA concentration and purity were assessed with a Thermo Scientific's NanoDrop 1000 Spectrophotometer (NanoDrop Technologies, Wilmington, DE, USA) and quality was assessed with an Agilent 2100 Bioanalyzer (Agilent, Palo Alto, CA, USA).\"]\n",
      "label_ch1: ['Cy3']\n",
      "label_protocol_ch1: ['200 ng of RNA were labelled and amplified following Illumina Whole Genome Expression - DASL assay kit for partially degraded and FFPE derived RNA.']\n",
      "hyb_protocol: ['Standard Illumina hybridization protocol']\n",
      "scan_protocol: ['Standard Illumina scanning protocol']\n",
      "data_processing: ['Data was checked for overall quality using R (v2.15.1) with the lumi Bioconductor package. Nine outliers (4 NASH, 5 SS), which fell below the threshold for one or more of the quality metrics  calculated with this package, were excluded from further analysis. The data were imported in GeneSpring v12.5 (Agilent) and normalized using a quantile normalization followed by a “per  probe” median centered normalization.']\n",
      "platform_id: ['GPL14951']\n",
      "contact_name: ['Johane,P.,Allard']\n",
      "contact_email: ['johane.allard@uhn.on.ca']\n",
      "contact_phone: ['416-340-5159']\n",
      "contact_department: ['Medicine']\n",
      "contact_institute: ['University Health Network']\n",
      "contact_address: ['585 University Ave, 9-NU-973']\n",
      "contact_city: ['Toronto']\n",
      "contact_state: ['Ontario']\n",
      "contact_zip/postal_code: ['M5G 2N2']\n",
      "contact_country: ['Canada']\n",
      "supplementary_file: ['ftp://ftp.ncbi.nlm.nih.gov/geo/samples/GSM2385nnn/GSM2385721/suppl/GSM2385721_8473515021_E_Grn.idat.gz']\n",
      "series_id: ['GSE89632']\n",
      "data_row_count: ['29377']\n"
     ]
    }
   ],
   "source": [
    "gsm_name, gsm = next(gsm_cycler)\n",
    "\n",
    "for k, v in gsm.metadata.items():\n",
    "    print(f'{k}: {v}')"
   ]
  },
  {
   "cell_type": "markdown",
   "metadata": {},
   "source": [
    "We are interested in knowing the condition of each patient; hence, we extract it from the `characteristics_ch1` value. The dataset contains 24 control patients, 20 patients with steatosis and 19 patients with NASH. For integration with other datasets, we map these names to _control_, _NAFL_ and _NASH_."
   ]
  },
  {
   "cell_type": "code",
   "execution_count": 5,
   "metadata": {},
   "outputs": [
    {
     "name": "stdout",
     "output_type": "stream",
     "text": [
      "Original conditions:  ['HC' 'NASH' 'SS']\n",
      "Conditions:\n",
      "- NAFL: 20\n",
      "- NASH: 19\n",
      "- control: 24\n"
     ]
    }
   ],
   "source": [
    "geo_accessions = [gsm.metadata['geo_accession'][0] for _, gsm in gse.gsms.items()]\n",
    "stages = [next((item.split(\": \")[1] for item in gsm.metadata['characteristics_ch1'] if item.startswith(\"diagnosis:\")), None) for _, gsm in gse.gsms.items()]\n",
    "print('Original conditions: ', np.unique(stages))\n",
    "mapping = {'HC': 'control', 'SS': 'NAFL', 'NASH': 'NASH'}\n",
    "stages = [mapping[stage] for stage in stages]\n",
    "values, counts = np.unique(stages, return_counts=True)\n",
    "\n",
    "print('Conditions:')\n",
    "for stage, count in zip(values, counts):\n",
    "    print(f'- {stage}: {count}')"
   ]
  },
  {
   "cell_type": "markdown",
   "metadata": {},
   "source": [
    "Now we gather all samples in a single DataFrame."
   ]
  },
  {
   "cell_type": "code",
   "execution_count": 6,
   "metadata": {},
   "outputs": [
    {
     "data": {
      "text/html": [
       "<div>\n",
       "<style scoped>\n",
       "    .dataframe tbody tr th:only-of-type {\n",
       "        vertical-align: middle;\n",
       "    }\n",
       "\n",
       "    .dataframe tbody tr th {\n",
       "        vertical-align: top;\n",
       "    }\n",
       "\n",
       "    .dataframe thead th {\n",
       "        text-align: right;\n",
       "    }\n",
       "</style>\n",
       "<table border=\"1\" class=\"dataframe\">\n",
       "  <thead>\n",
       "    <tr style=\"text-align: right;\">\n",
       "      <th></th>\n",
       "      <th>GSM2385720</th>\n",
       "      <th>GSM2385721</th>\n",
       "      <th>GSM2385722</th>\n",
       "      <th>GSM2385723</th>\n",
       "      <th>GSM2385724</th>\n",
       "      <th>GSM2385725</th>\n",
       "      <th>GSM2385726</th>\n",
       "      <th>GSM2385727</th>\n",
       "      <th>GSM2385728</th>\n",
       "      <th>GSM2385729</th>\n",
       "      <th>...</th>\n",
       "      <th>GSM2385773</th>\n",
       "      <th>GSM2385774</th>\n",
       "      <th>GSM2385775</th>\n",
       "      <th>GSM2385776</th>\n",
       "      <th>GSM2385777</th>\n",
       "      <th>GSM2385778</th>\n",
       "      <th>GSM2385779</th>\n",
       "      <th>GSM2385780</th>\n",
       "      <th>GSM2385781</th>\n",
       "      <th>GSM2385782</th>\n",
       "    </tr>\n",
       "    <tr>\n",
       "      <th>ID_REF</th>\n",
       "      <th></th>\n",
       "      <th></th>\n",
       "      <th></th>\n",
       "      <th></th>\n",
       "      <th></th>\n",
       "      <th></th>\n",
       "      <th></th>\n",
       "      <th></th>\n",
       "      <th></th>\n",
       "      <th></th>\n",
       "      <th></th>\n",
       "      <th></th>\n",
       "      <th></th>\n",
       "      <th></th>\n",
       "      <th></th>\n",
       "      <th></th>\n",
       "      <th></th>\n",
       "      <th></th>\n",
       "      <th></th>\n",
       "      <th></th>\n",
       "      <th></th>\n",
       "    </tr>\n",
       "  </thead>\n",
       "  <tbody>\n",
       "    <tr>\n",
       "      <th>ILMN_1802380</th>\n",
       "      <td>12.358835</td>\n",
       "      <td>12.606474</td>\n",
       "      <td>12.393665</td>\n",
       "      <td>13.137311</td>\n",
       "      <td>12.472414</td>\n",
       "      <td>12.769886</td>\n",
       "      <td>11.666555</td>\n",
       "      <td>12.934494</td>\n",
       "      <td>12.565463</td>\n",
       "      <td>12.089334</td>\n",
       "      <td>...</td>\n",
       "      <td>12.335036</td>\n",
       "      <td>12.626303</td>\n",
       "      <td>11.814068</td>\n",
       "      <td>12.533229</td>\n",
       "      <td>13.195674</td>\n",
       "      <td>11.035422</td>\n",
       "      <td>12.209003</td>\n",
       "      <td>12.246716</td>\n",
       "      <td>12.264044</td>\n",
       "      <td>12.973392</td>\n",
       "    </tr>\n",
       "    <tr>\n",
       "      <th>ILMN_1792389</th>\n",
       "      <td>10.625872</td>\n",
       "      <td>11.075024</td>\n",
       "      <td>11.091969</td>\n",
       "      <td>11.949015</td>\n",
       "      <td>11.537207</td>\n",
       "      <td>12.150476</td>\n",
       "      <td>11.005180</td>\n",
       "      <td>12.986650</td>\n",
       "      <td>10.704872</td>\n",
       "      <td>11.248106</td>\n",
       "      <td>...</td>\n",
       "      <td>11.899030</td>\n",
       "      <td>11.652986</td>\n",
       "      <td>11.318297</td>\n",
       "      <td>11.730129</td>\n",
       "      <td>12.082602</td>\n",
       "      <td>11.787084</td>\n",
       "      <td>10.795445</td>\n",
       "      <td>10.119894</td>\n",
       "      <td>11.394989</td>\n",
       "      <td>12.261615</td>\n",
       "    </tr>\n",
       "    <tr>\n",
       "      <th>ILMN_3308818</th>\n",
       "      <td>9.074651</td>\n",
       "      <td>9.429843</td>\n",
       "      <td>9.401119</td>\n",
       "      <td>9.156379</td>\n",
       "      <td>9.576745</td>\n",
       "      <td>9.648910</td>\n",
       "      <td>9.151682</td>\n",
       "      <td>10.505579</td>\n",
       "      <td>8.827234</td>\n",
       "      <td>8.892095</td>\n",
       "      <td>...</td>\n",
       "      <td>9.301877</td>\n",
       "      <td>9.743835</td>\n",
       "      <td>9.761029</td>\n",
       "      <td>9.440359</td>\n",
       "      <td>9.542881</td>\n",
       "      <td>9.655934</td>\n",
       "      <td>9.664660</td>\n",
       "      <td>9.377096</td>\n",
       "      <td>9.704641</td>\n",
       "      <td>9.582920</td>\n",
       "    </tr>\n",
       "    <tr>\n",
       "      <th>ILMN_3242405</th>\n",
       "      <td>14.510260</td>\n",
       "      <td>14.743216</td>\n",
       "      <td>14.703407</td>\n",
       "      <td>14.721431</td>\n",
       "      <td>14.632786</td>\n",
       "      <td>14.774042</td>\n",
       "      <td>14.767287</td>\n",
       "      <td>13.991133</td>\n",
       "      <td>14.285110</td>\n",
       "      <td>14.577412</td>\n",
       "      <td>...</td>\n",
       "      <td>14.128666</td>\n",
       "      <td>14.041429</td>\n",
       "      <td>14.129390</td>\n",
       "      <td>14.023711</td>\n",
       "      <td>14.014086</td>\n",
       "      <td>13.946819</td>\n",
       "      <td>14.015102</td>\n",
       "      <td>13.949124</td>\n",
       "      <td>13.589004</td>\n",
       "      <td>13.390902</td>\n",
       "    </tr>\n",
       "    <tr>\n",
       "      <th>ILMN_2375156</th>\n",
       "      <td>10.159377</td>\n",
       "      <td>10.141242</td>\n",
       "      <td>10.442173</td>\n",
       "      <td>10.730599</td>\n",
       "      <td>10.762320</td>\n",
       "      <td>10.302935</td>\n",
       "      <td>10.710007</td>\n",
       "      <td>10.726230</td>\n",
       "      <td>10.358349</td>\n",
       "      <td>10.442871</td>\n",
       "      <td>...</td>\n",
       "      <td>9.734538</td>\n",
       "      <td>10.080256</td>\n",
       "      <td>9.353672</td>\n",
       "      <td>10.099712</td>\n",
       "      <td>10.600777</td>\n",
       "      <td>9.022009</td>\n",
       "      <td>10.327999</td>\n",
       "      <td>10.010979</td>\n",
       "      <td>9.963366</td>\n",
       "      <td>10.620427</td>\n",
       "    </tr>\n",
       "  </tbody>\n",
       "</table>\n",
       "<p>5 rows × 63 columns</p>\n",
       "</div>"
      ],
      "text/plain": [
       "              GSM2385720  GSM2385721  GSM2385722  GSM2385723  GSM2385724  \\\n",
       "ID_REF                                                                     \n",
       "ILMN_1802380   12.358835   12.606474   12.393665   13.137311   12.472414   \n",
       "ILMN_1792389   10.625872   11.075024   11.091969   11.949015   11.537207   \n",
       "ILMN_3308818    9.074651    9.429843    9.401119    9.156379    9.576745   \n",
       "ILMN_3242405   14.510260   14.743216   14.703407   14.721431   14.632786   \n",
       "ILMN_2375156   10.159377   10.141242   10.442173   10.730599   10.762320   \n",
       "\n",
       "              GSM2385725  GSM2385726  GSM2385727  GSM2385728  GSM2385729  ...  \\\n",
       "ID_REF                                                                    ...   \n",
       "ILMN_1802380   12.769886   11.666555   12.934494   12.565463   12.089334  ...   \n",
       "ILMN_1792389   12.150476   11.005180   12.986650   10.704872   11.248106  ...   \n",
       "ILMN_3308818    9.648910    9.151682   10.505579    8.827234    8.892095  ...   \n",
       "ILMN_3242405   14.774042   14.767287   13.991133   14.285110   14.577412  ...   \n",
       "ILMN_2375156   10.302935   10.710007   10.726230   10.358349   10.442871  ...   \n",
       "\n",
       "              GSM2385773  GSM2385774  GSM2385775  GSM2385776  GSM2385777  \\\n",
       "ID_REF                                                                     \n",
       "ILMN_1802380   12.335036   12.626303   11.814068   12.533229   13.195674   \n",
       "ILMN_1792389   11.899030   11.652986   11.318297   11.730129   12.082602   \n",
       "ILMN_3308818    9.301877    9.743835    9.761029    9.440359    9.542881   \n",
       "ILMN_3242405   14.128666   14.041429   14.129390   14.023711   14.014086   \n",
       "ILMN_2375156    9.734538   10.080256    9.353672   10.099712   10.600777   \n",
       "\n",
       "              GSM2385778  GSM2385779  GSM2385780  GSM2385781  GSM2385782  \n",
       "ID_REF                                                                    \n",
       "ILMN_1802380   11.035422   12.209003   12.246716   12.264044   12.973392  \n",
       "ILMN_1792389   11.787084   10.795445   10.119894   11.394989   12.261615  \n",
       "ILMN_3308818    9.655934    9.664660    9.377096    9.704641    9.582920  \n",
       "ILMN_3242405   13.946819   14.015102   13.949124   13.589004   13.390902  \n",
       "ILMN_2375156    9.022009   10.327999   10.010979    9.963366   10.620427  \n",
       "\n",
       "[5 rows x 63 columns]"
      ]
     },
     "execution_count": 6,
     "metadata": {},
     "output_type": "execute_result"
    }
   ],
   "source": [
    "data = []\n",
    "for i, (gsm_name, gsm) in enumerate(gse.gsms.items()):\n",
    "    table = gsm.table[['ID_REF', 'VALUE']]\n",
    "    table.columns = ['ID_REF', gsm_name]\n",
    "    data.append(table if i == 0 else table[gsm_name])\n",
    "data = pd.concat(data, axis=1)\n",
    "data.set_index('ID_REF', inplace=True)\n",
    "\n",
    "data.head()"
   ]
  },
  {
   "cell_type": "markdown",
   "metadata": {},
   "source": [
    "Let's plot the distribution of intensities. It seems there was some normalization done on this data. Gene expression values per sample seem to have the same scale."
   ]
  },
  {
   "cell_type": "code",
   "execution_count": 7,
   "metadata": {},
   "outputs": [
    {
     "data": {
      "image/png": "[encoded data removed]",
      "text/plain": [
       "<Figure size 2000x500 with 1 Axes>"
      ]
     },
     "metadata": {},
     "output_type": "display_data"
    }
   ],
   "source": [
    "values = data.values.astype(float)\n",
    "\n",
    "plt.figure(figsize=(20, 5))\n",
    "plt.boxplot(values, tick_labels=data.columns, showfliers=False)\n",
    "plt.xticks(rotation=90)\n",
    "plt.ylabel('Expression')\n",
    "plt.tight_layout()\n",
    "plt.show()"
   ]
  },
  {
   "cell_type": "markdown",
   "metadata": {},
   "source": [
    "Finally, we look at the platform data to search for gene symbols. Our GSE object (naturally) has one single platform."
   ]
  },
  {
   "cell_type": "code",
   "execution_count": 8,
   "metadata": {},
   "outputs": [
    {
     "data": {
      "text/plain": [
       "dict_items([('GPL14951', <d: GPL14951>)])"
      ]
     },
     "execution_count": 8,
     "metadata": {},
     "output_type": "execute_result"
    }
   ],
   "source": [
    "gse.gpls.items()"
   ]
  },
  {
   "cell_type": "markdown",
   "metadata": {},
   "source": [
    "The platform metadata contains relevant information, like the microarray's name, GEO accession ID, and number of probes. The table data contains information about each probe."
   ]
  },
  {
   "cell_type": "code",
   "execution_count": 9,
   "metadata": {},
   "outputs": [
    {
     "name": "stdout",
     "output_type": "stream",
     "text": [
      "Title:  Illumina HumanHT-12 WG-DASL V4.0 R2 expression beadchip\n",
      "GEO Accession:  GPL14951\n",
      "Number of probes:  29377\n"
     ]
    },
    {
     "data": {
      "text/html": [
       "<div>\n",
       "<style scoped>\n",
       "    .dataframe tbody tr th:only-of-type {\n",
       "        vertical-align: middle;\n",
       "    }\n",
       "\n",
       "    .dataframe tbody tr th {\n",
       "        vertical-align: top;\n",
       "    }\n",
       "\n",
       "    .dataframe thead th {\n",
       "        text-align: right;\n",
       "    }\n",
       "</style>\n",
       "<table border=\"1\" class=\"dataframe\">\n",
       "  <thead>\n",
       "    <tr style=\"text-align: right;\">\n",
       "      <th></th>\n",
       "      <th>ID</th>\n",
       "      <th>Transcript</th>\n",
       "      <th>Species</th>\n",
       "      <th>Source</th>\n",
       "      <th>Search_Key</th>\n",
       "      <th>ILMN_Gene</th>\n",
       "      <th>Source_Reference_ID</th>\n",
       "      <th>RefSeq_ID</th>\n",
       "      <th>Entrez_Gene_ID</th>\n",
       "      <th>GI</th>\n",
       "      <th>...</th>\n",
       "      <th>Probe_Chr_Orientation</th>\n",
       "      <th>Probe_Coordinates</th>\n",
       "      <th>Cytoband</th>\n",
       "      <th>Definition</th>\n",
       "      <th>Ontology_Component</th>\n",
       "      <th>Ontology_Process</th>\n",
       "      <th>Ontology_Function</th>\n",
       "      <th>Synonyms</th>\n",
       "      <th>Obsolete_Probe_Id</th>\n",
       "      <th>GB_ACC</th>\n",
       "    </tr>\n",
       "  </thead>\n",
       "  <tbody>\n",
       "    <tr>\n",
       "      <th>0</th>\n",
       "      <td>ILMN_3166687</td>\n",
       "      <td>ILMN_333737</td>\n",
       "      <td>ILMN Controls</td>\n",
       "      <td>ILMN_Controls</td>\n",
       "      <td>ERCC-00162</td>\n",
       "      <td>ERCC-00162</td>\n",
       "      <td>ERCC-00162</td>\n",
       "      <td>NaN</td>\n",
       "      <td>NaN</td>\n",
       "      <td>NaN</td>\n",
       "      <td>...</td>\n",
       "      <td>NaN</td>\n",
       "      <td>NaN</td>\n",
       "      <td>NaN</td>\n",
       "      <td>Methanocaldococcus jannaschii spike-in control...</td>\n",
       "      <td>NaN</td>\n",
       "      <td>NaN</td>\n",
       "      <td>NaN</td>\n",
       "      <td>NaN</td>\n",
       "      <td>NaN</td>\n",
       "      <td>DQ516750</td>\n",
       "    </tr>\n",
       "    <tr>\n",
       "      <th>1</th>\n",
       "      <td>ILMN_3165566</td>\n",
       "      <td>ILMN_333646</td>\n",
       "      <td>ILMN Controls</td>\n",
       "      <td>ILMN_Controls</td>\n",
       "      <td>ERCC-00071</td>\n",
       "      <td>ERCC-00071</td>\n",
       "      <td>ERCC-00071</td>\n",
       "      <td>NaN</td>\n",
       "      <td>NaN</td>\n",
       "      <td>NaN</td>\n",
       "      <td>...</td>\n",
       "      <td>NaN</td>\n",
       "      <td>NaN</td>\n",
       "      <td>NaN</td>\n",
       "      <td>Synthetic construct clone NISTag13 external RN...</td>\n",
       "      <td>NaN</td>\n",
       "      <td>NaN</td>\n",
       "      <td>NaN</td>\n",
       "      <td>NaN</td>\n",
       "      <td>NaN</td>\n",
       "      <td>DQ883654</td>\n",
       "    </tr>\n",
       "    <tr>\n",
       "      <th>2</th>\n",
       "      <td>ILMN_3164811</td>\n",
       "      <td>ILMN_333584</td>\n",
       "      <td>ILMN Controls</td>\n",
       "      <td>ILMN_Controls</td>\n",
       "      <td>ERCC-00009</td>\n",
       "      <td>ERCC-00009</td>\n",
       "      <td>ERCC-00009</td>\n",
       "      <td>NaN</td>\n",
       "      <td>NaN</td>\n",
       "      <td>NaN</td>\n",
       "      <td>...</td>\n",
       "      <td>NaN</td>\n",
       "      <td>NaN</td>\n",
       "      <td>NaN</td>\n",
       "      <td>Synthetic construct clone TagJ microarray control</td>\n",
       "      <td>NaN</td>\n",
       "      <td>NaN</td>\n",
       "      <td>NaN</td>\n",
       "      <td>NaN</td>\n",
       "      <td>NaN</td>\n",
       "      <td>DQ668364</td>\n",
       "    </tr>\n",
       "  </tbody>\n",
       "</table>\n",
       "<p>3 rows × 28 columns</p>\n",
       "</div>"
      ],
      "text/plain": [
       "             ID   Transcript        Species         Source  Search_Key  \\\n",
       "0  ILMN_3166687  ILMN_333737  ILMN Controls  ILMN_Controls  ERCC-00162   \n",
       "1  ILMN_3165566  ILMN_333646  ILMN Controls  ILMN_Controls  ERCC-00071   \n",
       "2  ILMN_3164811  ILMN_333584  ILMN Controls  ILMN_Controls  ERCC-00009   \n",
       "\n",
       "    ILMN_Gene Source_Reference_ID RefSeq_ID  Entrez_Gene_ID  GI  ...  \\\n",
       "0  ERCC-00162          ERCC-00162       NaN             NaN NaN  ...   \n",
       "1  ERCC-00071          ERCC-00071       NaN             NaN NaN  ...   \n",
       "2  ERCC-00009          ERCC-00009       NaN             NaN NaN  ...   \n",
       "\n",
       "  Probe_Chr_Orientation Probe_Coordinates Cytoband  \\\n",
       "0                   NaN               NaN      NaN   \n",
       "1                   NaN               NaN      NaN   \n",
       "2                   NaN               NaN      NaN   \n",
       "\n",
       "                                          Definition Ontology_Component  \\\n",
       "0  Methanocaldococcus jannaschii spike-in control...                NaN   \n",
       "1  Synthetic construct clone NISTag13 external RN...                NaN   \n",
       "2  Synthetic construct clone TagJ microarray control                NaN   \n",
       "\n",
       "   Ontology_Process Ontology_Function Synonyms Obsolete_Probe_Id    GB_ACC  \n",
       "0               NaN               NaN      NaN               NaN  DQ516750  \n",
       "1               NaN               NaN      NaN               NaN  DQ883654  \n",
       "2               NaN               NaN      NaN               NaN  DQ668364  \n",
       "\n",
       "[3 rows x 28 columns]"
      ]
     },
     "execution_count": 9,
     "metadata": {},
     "output_type": "execute_result"
    }
   ],
   "source": [
    "gpl = list(gse.gpls.values())[0]\n",
    "\n",
    "print('Title: ', gpl.metadata['title'][0])\n",
    "print('GEO Accession: ', gpl.metadata['geo_accession'][0])\n",
    "print('Number of probes: ', gpl.metadata['data_row_count'][0])\n",
    "\n",
    "gpl_table = gpl.table\n",
    "gpl_table.head(3)"
   ]
  },
  {
   "cell_type": "markdown",
   "metadata": {},
   "source": [
    "Here, we are interested in gene symbols. We retain 29,377 probes with 20,819 genes."
   ]
  },
  {
   "cell_type": "code",
   "execution_count": 10,
   "metadata": {},
   "outputs": [
    {
     "name": "stdout",
     "output_type": "stream",
     "text": [
      "Number of clean probes: 29377\n",
      "Number of unique genes: 20819\n",
      "Example genes: ['ATG9A' 'MIR371' 'IARS2' 'KIAA0495' 'MIR203']\n"
     ]
    }
   ],
   "source": [
    "symbols = gpl_table['Symbol'].dropna()\n",
    "print(f'Number of clean probes: {len(symbols)}')\n",
    "print(f'Number of unique genes: {len(symbols.unique())}')\n",
    "print(f'Example genes: {symbols.sample(5).values}')"
   ]
  }
 ],
 "metadata": {
  "kernelspec": {
   "display_name": "bio",
   "language": "python",
   "name": "python3"
  },
  "language_info": {
   "codemirror_mode": {
    "name": "ipython",
    "version": 3
   },
   "file_extension": ".py",
   "mimetype": "text/x-python",
   "name": "python",
   "nbconvert_exporter": "python",
   "pygments_lexer": "ipython3",
   "version": "3.9.20"
  }
 },
 "nbformat": 4,
 "nbformat_minor": 2
}
