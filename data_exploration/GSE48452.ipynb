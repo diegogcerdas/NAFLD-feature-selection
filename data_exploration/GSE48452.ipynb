{
 "cells": [
  {
   "cell_type": "code",
   "execution_count": 33,
   "metadata": {},
   "outputs": [],
   "source": [
    "import GEOparse\n",
    "import pandas as pd\n",
    "import numpy as np\n",
    "import itertools\n",
    "import matplotlib.pyplot as plt\n",
    "from tqdm.notebook import tqdm\n",
    "import re"
   ]
  },
  {
   "cell_type": "markdown",
   "metadata": {},
   "source": [
    "# GSE48452"
   ]
  },
  {
   "cell_type": "markdown",
   "metadata": {},
   "source": [
    "This notebook provides a brief exploration of the [GSE48452 dataset](https://www.ncbi.nlm.nih.gov/geo/query/acc.cgi?acc=GSE48452). Our goal is to extract (1) gene expression intensity values, (2) the condition of each patient, and (3) a symbol for each gene in the dataset.\n",
    "\n",
    "We start by loading the dataset with GEOparse and creating a cycling iterator to go through all GEO samples."
   ]
  },
  {
   "cell_type": "code",
   "execution_count": 53,
   "metadata": {},
   "outputs": [],
   "source": [
    "gse = GEOparse.get_GEO(geo=\"GSE48452\", destdir='../data', silent=True)\n",
    "gsm_cycler = itertools.cycle(gse.gsms.items())"
   ]
  },
  {
   "cell_type": "markdown",
   "metadata": {},
   "source": [
    "Here, we visualize single GEO samples, each represented by a DataFrame containing probes as rows and a `VALUE` column with the gene expression intensity values."
   ]
  },
  {
   "cell_type": "code",
   "execution_count": 54,
   "metadata": {},
   "outputs": [
    {
     "name": "stdout",
     "output_type": "stream",
     "text": [
      "count    33297.000000\n",
      "mean         5.155996\n",
      "std          2.375948\n",
      "min          0.808466\n",
      "25%          3.226511\n",
      "50%          4.845805\n",
      "75%          6.762773\n",
      "max         13.633922\n",
      "Name: VALUE, dtype: float64\n"
     ]
    },
    {
     "data": {
      "text/html": [
       "<div>\n",
       "<style scoped>\n",
       "    .dataframe tbody tr th:only-of-type {\n",
       "        vertical-align: middle;\n",
       "    }\n",
       "\n",
       "    .dataframe tbody tr th {\n",
       "        vertical-align: top;\n",
       "    }\n",
       "\n",
       "    .dataframe thead th {\n",
       "        text-align: right;\n",
       "    }\n",
       "</style>\n",
       "<table border=\"1\" class=\"dataframe\">\n",
       "  <thead>\n",
       "    <tr style=\"text-align: right;\">\n",
       "      <th></th>\n",
       "      <th>ID_REF</th>\n",
       "      <th>VALUE</th>\n",
       "    </tr>\n",
       "  </thead>\n",
       "  <tbody>\n",
       "    <tr>\n",
       "      <th>0</th>\n",
       "      <td>7892501</td>\n",
       "      <td>3.172159</td>\n",
       "    </tr>\n",
       "    <tr>\n",
       "      <th>1</th>\n",
       "      <td>7892502</td>\n",
       "      <td>3.108343</td>\n",
       "    </tr>\n",
       "    <tr>\n",
       "      <th>2</th>\n",
       "      <td>7892503</td>\n",
       "      <td>2.509425</td>\n",
       "    </tr>\n",
       "    <tr>\n",
       "      <th>3</th>\n",
       "      <td>7892504</td>\n",
       "      <td>7.231928</td>\n",
       "    </tr>\n",
       "    <tr>\n",
       "      <th>4</th>\n",
       "      <td>7892505</td>\n",
       "      <td>1.576372</td>\n",
       "    </tr>\n",
       "  </tbody>\n",
       "</table>\n",
       "</div>"
      ],
      "text/plain": [
       "    ID_REF     VALUE\n",
       "0  7892501  3.172159\n",
       "1  7892502  3.108343\n",
       "2  7892503  2.509425\n",
       "3  7892504  7.231928\n",
       "4  7892505  1.576372"
      ]
     },
     "execution_count": 54,
     "metadata": {},
     "output_type": "execute_result"
    }
   ],
   "source": [
    "gsm_name, gsm = next(gsm_cycler)\n",
    "table = gsm.table\n",
    "print(table['VALUE'].describe())\n",
    "table.head()"
   ]
  },
  {
   "cell_type": "markdown",
   "metadata": {},
   "source": [
    "Each GEO sample contains relevant metadata."
   ]
  },
  {
   "cell_type": "code",
   "execution_count": 4,
   "metadata": {},
   "outputs": [
    {
     "name": "stdout",
     "output_type": "stream",
     "text": [
      "title: ['liver, C, A1359-02']\n",
      "geo_accession: ['GSM1178971']\n",
      "status: ['Public on Aug 08 2013']\n",
      "submission_date: ['Jul 01 2013']\n",
      "last_update_date: ['Aug 08 2013']\n",
      "type: ['RNA']\n",
      "channel_count: ['1']\n",
      "source_name_ch1: ['Control']\n",
      "organism_ch1: ['Homo sapiens']\n",
      "taxid_ch1: ['9606']\n",
      "characteristics_ch1: ['tissue type: liver biopsy', 'group: Control', 'fat: 3', 'inflammation: 1', 'other_id: NA', 'bariatric surgery: NA', 'Sex: female', 'age: 51', 'bmi: 23.6', 'nas: 1', 'fibrosis: NA', 'lar: 0', 'delta lar: NA', 'delta leptin: NA', 'leptin: 0', 'adiponectin: 12.43', 'delta adipo: NA']\n",
      "treatment_protocol_ch1: ['not applicable']\n",
      "growth_protocol_ch1: ['liver biopsy']\n",
      "molecule_ch1: ['total RNA']\n",
      "extract_protocol_ch1: ['For homogenisation of five to ten milligram frozen tissue and subsequent nucleic acid isolation, tubes with 1,4\\xa0mm ceramic beads (Precellys, Villeurbanne, France) and the AllPrep DNA/RNA Mini Kit (QIAGEN, Hilden, Germany) were used.']\n",
      "label_ch1: ['biotin']\n",
      "label_protocol_ch1: ['according to the manufacturers protocols']\n",
      "hyb_protocol: ['according to the manufacturers protocols']\n",
      "scan_protocol: ['according to the manufacturers protocols']\n",
      "data_processing: ['RMA normalization with Bioconductor package oligo']\n",
      "platform_id: ['GPL11532']\n",
      "contact_name: ['Timo,,Itzel']\n",
      "contact_email: ['Timo.Itzel@klinik.uni-regensburg.de']\n",
      "contact_institute: ['Universitätsklinikum Regensburg']\n",
      "contact_address: ['Franz-Josef-Strauß-Allee 11']\n",
      "contact_city: ['Regensburg']\n",
      "contact_zip/postal_code: ['93042']\n",
      "contact_country: ['Germany']\n",
      "supplementary_file: ['ftp://ftp.ncbi.nlm.nih.gov/geo/samples/GSM1178nnn/GSM1178971/suppl/GSM1178971_A1359-02.CEL.gz']\n",
      "series_id: ['GSE48452']\n",
      "data_row_count: ['33297']\n"
     ]
    }
   ],
   "source": [
    "gsm_name, gsm = next(gsm_cycler)\n",
    "\n",
    "for k, v in gsm.metadata.items():\n",
    "    print(f'{k}: {v}')"
   ]
  },
  {
   "cell_type": "markdown",
   "metadata": {},
   "source": [
    "We are interested in knowing the condition of each patient; hence, we extract it from the `characteristics_ch1` value. The dataset contains 14 control patients, 27 healthy patients with obsity, 14 patients with steatosis and 18 patients with NASH. For integration with other datasets, we map these names to _control_, _healthy obese_, _NAFL_ and _NASH_."
   ]
  },
  {
   "cell_type": "code",
   "execution_count": 5,
   "metadata": {},
   "outputs": [
    {
     "name": "stdout",
     "output_type": "stream",
     "text": [
      "Original conditions:  ['Control' 'Healthy obese' 'Nash' 'Steatosis']\n",
      "Conditions:\n",
      "- NAFL: 14\n",
      "- NASH: 18\n",
      "- control: 14\n",
      "- healthy obese: 27\n"
     ]
    }
   ],
   "source": [
    "geo_accessions = [gsm.metadata['geo_accession'][0] for _, gsm in gse.gsms.items()]\n",
    "stages = [next((item.split(\": \")[1] for item in gsm.metadata['characteristics_ch1'] if item.startswith(\"group:\")), None) for _, gsm in gse.gsms.items()]\n",
    "print('Original conditions: ', np.unique(stages))\n",
    "mapping = {'Control': 'control', 'Healthy obese': 'healthy obese', 'Steatosis': 'NAFL', 'Nash': 'NASH'}\n",
    "stages = [mapping[stage] for stage in stages]\n",
    "values, counts = np.unique(stages, return_counts=True)\n",
    "\n",
    "print('Conditions:')\n",
    "for stage, count in zip(values, counts):\n",
    "    print(f'- {stage}: {count}')"
   ]
  },
  {
   "cell_type": "markdown",
   "metadata": {},
   "source": [
    "Now we gather all samples in a single DataFrame."
   ]
  },
  {
   "cell_type": "code",
   "execution_count": 6,
   "metadata": {},
   "outputs": [
    {
     "data": {
      "text/html": [
       "<div>\n",
       "<style scoped>\n",
       "    .dataframe tbody tr th:only-of-type {\n",
       "        vertical-align: middle;\n",
       "    }\n",
       "\n",
       "    .dataframe tbody tr th {\n",
       "        vertical-align: top;\n",
       "    }\n",
       "\n",
       "    .dataframe thead th {\n",
       "        text-align: right;\n",
       "    }\n",
       "</style>\n",
       "<table border=\"1\" class=\"dataframe\">\n",
       "  <thead>\n",
       "    <tr style=\"text-align: right;\">\n",
       "      <th></th>\n",
       "      <th>GSM1178970</th>\n",
       "      <th>GSM1178971</th>\n",
       "      <th>GSM1178972</th>\n",
       "      <th>GSM1178973</th>\n",
       "      <th>GSM1178974</th>\n",
       "      <th>GSM1178975</th>\n",
       "      <th>GSM1178976</th>\n",
       "      <th>GSM1178977</th>\n",
       "      <th>GSM1178978</th>\n",
       "      <th>GSM1178979</th>\n",
       "      <th>...</th>\n",
       "      <th>GSM1179033</th>\n",
       "      <th>GSM1179034</th>\n",
       "      <th>GSM1179035</th>\n",
       "      <th>GSM1179036</th>\n",
       "      <th>GSM1179037</th>\n",
       "      <th>GSM1179038</th>\n",
       "      <th>GSM1179039</th>\n",
       "      <th>GSM1179040</th>\n",
       "      <th>GSM1179041</th>\n",
       "      <th>GSM1179042</th>\n",
       "    </tr>\n",
       "    <tr>\n",
       "      <th>ID_REF</th>\n",
       "      <th></th>\n",
       "      <th></th>\n",
       "      <th></th>\n",
       "      <th></th>\n",
       "      <th></th>\n",
       "      <th></th>\n",
       "      <th></th>\n",
       "      <th></th>\n",
       "      <th></th>\n",
       "      <th></th>\n",
       "      <th></th>\n",
       "      <th></th>\n",
       "      <th></th>\n",
       "      <th></th>\n",
       "      <th></th>\n",
       "      <th></th>\n",
       "      <th></th>\n",
       "      <th></th>\n",
       "      <th></th>\n",
       "      <th></th>\n",
       "      <th></th>\n",
       "    </tr>\n",
       "  </thead>\n",
       "  <tbody>\n",
       "    <tr>\n",
       "      <th>7892501</th>\n",
       "      <td>3.172159</td>\n",
       "      <td>3.322146</td>\n",
       "      <td>4.131542</td>\n",
       "      <td>2.225883</td>\n",
       "      <td>2.436203</td>\n",
       "      <td>3.159068</td>\n",
       "      <td>3.937725</td>\n",
       "      <td>4.715104</td>\n",
       "      <td>3.078688</td>\n",
       "      <td>1.546285</td>\n",
       "      <td>...</td>\n",
       "      <td>4.151240</td>\n",
       "      <td>2.087608</td>\n",
       "      <td>2.916155</td>\n",
       "      <td>2.090180</td>\n",
       "      <td>1.907727</td>\n",
       "      <td>2.296681</td>\n",
       "      <td>2.292631</td>\n",
       "      <td>1.833231</td>\n",
       "      <td>2.077573</td>\n",
       "      <td>2.074308</td>\n",
       "    </tr>\n",
       "    <tr>\n",
       "      <th>7892502</th>\n",
       "      <td>3.108343</td>\n",
       "      <td>3.494193</td>\n",
       "      <td>2.857529</td>\n",
       "      <td>3.483998</td>\n",
       "      <td>2.838848</td>\n",
       "      <td>3.309446</td>\n",
       "      <td>2.727647</td>\n",
       "      <td>2.906121</td>\n",
       "      <td>3.538057</td>\n",
       "      <td>3.094374</td>\n",
       "      <td>...</td>\n",
       "      <td>3.336864</td>\n",
       "      <td>4.290730</td>\n",
       "      <td>2.888513</td>\n",
       "      <td>3.273764</td>\n",
       "      <td>3.141447</td>\n",
       "      <td>3.227904</td>\n",
       "      <td>4.336199</td>\n",
       "      <td>3.119768</td>\n",
       "      <td>2.213164</td>\n",
       "      <td>2.822951</td>\n",
       "    </tr>\n",
       "    <tr>\n",
       "      <th>7892503</th>\n",
       "      <td>2.509425</td>\n",
       "      <td>2.144811</td>\n",
       "      <td>2.968757</td>\n",
       "      <td>3.654358</td>\n",
       "      <td>4.317170</td>\n",
       "      <td>3.009281</td>\n",
       "      <td>2.975471</td>\n",
       "      <td>2.951081</td>\n",
       "      <td>3.911673</td>\n",
       "      <td>3.504420</td>\n",
       "      <td>...</td>\n",
       "      <td>2.750290</td>\n",
       "      <td>3.253756</td>\n",
       "      <td>2.727128</td>\n",
       "      <td>2.758524</td>\n",
       "      <td>2.774781</td>\n",
       "      <td>3.184269</td>\n",
       "      <td>2.870974</td>\n",
       "      <td>2.920791</td>\n",
       "      <td>3.031302</td>\n",
       "      <td>3.498532</td>\n",
       "    </tr>\n",
       "    <tr>\n",
       "      <th>7892504</th>\n",
       "      <td>7.231928</td>\n",
       "      <td>7.578190</td>\n",
       "      <td>7.283043</td>\n",
       "      <td>7.377781</td>\n",
       "      <td>6.465647</td>\n",
       "      <td>7.909563</td>\n",
       "      <td>6.959765</td>\n",
       "      <td>6.944438</td>\n",
       "      <td>7.696474</td>\n",
       "      <td>6.896190</td>\n",
       "      <td>...</td>\n",
       "      <td>7.132856</td>\n",
       "      <td>7.246651</td>\n",
       "      <td>6.810757</td>\n",
       "      <td>6.913429</td>\n",
       "      <td>6.798151</td>\n",
       "      <td>6.952473</td>\n",
       "      <td>7.430448</td>\n",
       "      <td>7.953143</td>\n",
       "      <td>6.300479</td>\n",
       "      <td>6.710218</td>\n",
       "    </tr>\n",
       "    <tr>\n",
       "      <th>7892505</th>\n",
       "      <td>1.576372</td>\n",
       "      <td>2.479748</td>\n",
       "      <td>1.982190</td>\n",
       "      <td>1.713928</td>\n",
       "      <td>2.154730</td>\n",
       "      <td>2.477483</td>\n",
       "      <td>1.488781</td>\n",
       "      <td>1.766051</td>\n",
       "      <td>2.893852</td>\n",
       "      <td>2.278938</td>\n",
       "      <td>...</td>\n",
       "      <td>1.729462</td>\n",
       "      <td>2.763826</td>\n",
       "      <td>2.340915</td>\n",
       "      <td>2.231745</td>\n",
       "      <td>2.218666</td>\n",
       "      <td>1.728845</td>\n",
       "      <td>1.762520</td>\n",
       "      <td>1.628453</td>\n",
       "      <td>1.593919</td>\n",
       "      <td>3.355724</td>\n",
       "    </tr>\n",
       "  </tbody>\n",
       "</table>\n",
       "<p>5 rows × 73 columns</p>\n",
       "</div>"
      ],
      "text/plain": [
       "         GSM1178970  GSM1178971  GSM1178972  GSM1178973  GSM1178974  \\\n",
       "ID_REF                                                                \n",
       "7892501    3.172159    3.322146    4.131542    2.225883    2.436203   \n",
       "7892502    3.108343    3.494193    2.857529    3.483998    2.838848   \n",
       "7892503    2.509425    2.144811    2.968757    3.654358    4.317170   \n",
       "7892504    7.231928    7.578190    7.283043    7.377781    6.465647   \n",
       "7892505    1.576372    2.479748    1.982190    1.713928    2.154730   \n",
       "\n",
       "         GSM1178975  GSM1178976  GSM1178977  GSM1178978  GSM1178979  ...  \\\n",
       "ID_REF                                                               ...   \n",
       "7892501    3.159068    3.937725    4.715104    3.078688    1.546285  ...   \n",
       "7892502    3.309446    2.727647    2.906121    3.538057    3.094374  ...   \n",
       "7892503    3.009281    2.975471    2.951081    3.911673    3.504420  ...   \n",
       "7892504    7.909563    6.959765    6.944438    7.696474    6.896190  ...   \n",
       "7892505    2.477483    1.488781    1.766051    2.893852    2.278938  ...   \n",
       "\n",
       "         GSM1179033  GSM1179034  GSM1179035  GSM1179036  GSM1179037  \\\n",
       "ID_REF                                                                \n",
       "7892501    4.151240    2.087608    2.916155    2.090180    1.907727   \n",
       "7892502    3.336864    4.290730    2.888513    3.273764    3.141447   \n",
       "7892503    2.750290    3.253756    2.727128    2.758524    2.774781   \n",
       "7892504    7.132856    7.246651    6.810757    6.913429    6.798151   \n",
       "7892505    1.729462    2.763826    2.340915    2.231745    2.218666   \n",
       "\n",
       "         GSM1179038  GSM1179039  GSM1179040  GSM1179041  GSM1179042  \n",
       "ID_REF                                                               \n",
       "7892501    2.296681    2.292631    1.833231    2.077573    2.074308  \n",
       "7892502    3.227904    4.336199    3.119768    2.213164    2.822951  \n",
       "7892503    3.184269    2.870974    2.920791    3.031302    3.498532  \n",
       "7892504    6.952473    7.430448    7.953143    6.300479    6.710218  \n",
       "7892505    1.728845    1.762520    1.628453    1.593919    3.355724  \n",
       "\n",
       "[5 rows x 73 columns]"
      ]
     },
     "execution_count": 6,
     "metadata": {},
     "output_type": "execute_result"
    }
   ],
   "source": [
    "data = []\n",
    "for i, (gsm_name, gsm) in enumerate(gse.gsms.items()):\n",
    "    table = gsm.table\n",
    "    table.columns = ['ID_REF', gsm_name]\n",
    "    data.append(table if i == 0 else table[gsm_name])\n",
    "data = pd.concat(data, axis=1)\n",
    "data.set_index('ID_REF', inplace=True)\n",
    "\n",
    "data.head()"
   ]
  },
  {
   "cell_type": "markdown",
   "metadata": {},
   "source": [
    "Let's plot the distribution of intensities. It seems there was some normalization done on this data. Gene expression values per sample seem to have the same scale."
   ]
  },
  {
   "cell_type": "code",
   "execution_count": 7,
   "metadata": {},
   "outputs": [
    {
     "data": {
      "image/png": "[encoded data removed]",
      "text/plain": [
       "<Figure size 2000x500 with 1 Axes>"
      ]
     },
     "metadata": {},
     "output_type": "display_data"
    }
   ],
   "source": [
    "values = data.values.astype(float)\n",
    "\n",
    "plt.figure(figsize=(20, 5))\n",
    "plt.boxplot(values, tick_labels=data.columns, showfliers=False)\n",
    "plt.xticks(rotation=90)\n",
    "plt.ylabel('Expression')\n",
    "plt.tight_layout()\n",
    "plt.show()"
   ]
  },
  {
   "cell_type": "markdown",
   "metadata": {},
   "source": [
    "Finally, we look at the platform data to search for gene symbols. Our GSE object (naturally) has one single platform."
   ]
  },
  {
   "cell_type": "code",
   "execution_count": 8,
   "metadata": {},
   "outputs": [
    {
     "data": {
      "text/plain": [
       "dict_items([('GPL11532', <d: GPL11532>)])"
      ]
     },
     "execution_count": 8,
     "metadata": {},
     "output_type": "execute_result"
    }
   ],
   "source": [
    "gse.gpls.items()"
   ]
  },
  {
   "cell_type": "markdown",
   "metadata": {},
   "source": [
    "The platform metadata contains relevant information, like the microarray's name, GEO accession ID, and number of probes. The table data contains information about each probe."
   ]
  },
  {
   "cell_type": "code",
   "execution_count": 9,
   "metadata": {},
   "outputs": [
    {
     "name": "stdout",
     "output_type": "stream",
     "text": [
      "Title:  [HuGene-1_1-st] Affymetrix Human Gene 1.1 ST Array [transcript (gene) version]\n",
      "GEO Accession:  GPL11532\n",
      "Number of probes:  33297\n"
     ]
    },
    {
     "data": {
      "text/html": [
       "<div>\n",
       "<style scoped>\n",
       "    .dataframe tbody tr th:only-of-type {\n",
       "        vertical-align: middle;\n",
       "    }\n",
       "\n",
       "    .dataframe tbody tr th {\n",
       "        vertical-align: top;\n",
       "    }\n",
       "\n",
       "    .dataframe thead th {\n",
       "        text-align: right;\n",
       "    }\n",
       "</style>\n",
       "<table border=\"1\" class=\"dataframe\">\n",
       "  <thead>\n",
       "    <tr style=\"text-align: right;\">\n",
       "      <th></th>\n",
       "      <th>ID</th>\n",
       "      <th>GB_LIST</th>\n",
       "      <th>SPOT_ID</th>\n",
       "      <th>seqname</th>\n",
       "      <th>RANGE_GB</th>\n",
       "      <th>RANGE_STRAND</th>\n",
       "      <th>RANGE_START</th>\n",
       "      <th>RANGE_STOP</th>\n",
       "      <th>total_probes</th>\n",
       "      <th>gene_assignment</th>\n",
       "      <th>mrna_assignment</th>\n",
       "      <th>category</th>\n",
       "    </tr>\n",
       "  </thead>\n",
       "  <tbody>\n",
       "    <tr>\n",
       "      <th>0</th>\n",
       "      <td>7896736</td>\n",
       "      <td>NaN</td>\n",
       "      <td>chr1:53049-54936</td>\n",
       "      <td>chr1</td>\n",
       "      <td>NC_000001.10</td>\n",
       "      <td>+</td>\n",
       "      <td>53049</td>\n",
       "      <td>54936</td>\n",
       "      <td>7</td>\n",
       "      <td>---</td>\n",
       "      <td>---</td>\n",
       "      <td>---</td>\n",
       "    </tr>\n",
       "    <tr>\n",
       "      <th>1</th>\n",
       "      <td>7896738</td>\n",
       "      <td>NaN</td>\n",
       "      <td>chr1:63015-63887</td>\n",
       "      <td>chr1</td>\n",
       "      <td>NC_000001.10</td>\n",
       "      <td>+</td>\n",
       "      <td>63015</td>\n",
       "      <td>63887</td>\n",
       "      <td>31</td>\n",
       "      <td>---</td>\n",
       "      <td>ENST00000328113 // ENSEMBL // cdna:pseudogene ...</td>\n",
       "      <td>main</td>\n",
       "    </tr>\n",
       "    <tr>\n",
       "      <th>2</th>\n",
       "      <td>7896740</td>\n",
       "      <td>NM_001005240,NM_001004195,NM_001005484,BC13684...</td>\n",
       "      <td>chr1:69091-70008</td>\n",
       "      <td>chr1</td>\n",
       "      <td>NC_000001.10</td>\n",
       "      <td>+</td>\n",
       "      <td>69091</td>\n",
       "      <td>70008</td>\n",
       "      <td>24</td>\n",
       "      <td>NM_001005240 // OR4F17 // olfactory receptor, ...</td>\n",
       "      <td>NM_001005240 // RefSeq // Homo sapiens olfacto...</td>\n",
       "      <td>main</td>\n",
       "    </tr>\n",
       "  </tbody>\n",
       "</table>\n",
       "</div>"
      ],
      "text/plain": [
       "        ID                                            GB_LIST  \\\n",
       "0  7896736                                                NaN   \n",
       "1  7896738                                                NaN   \n",
       "2  7896740  NM_001005240,NM_001004195,NM_001005484,BC13684...   \n",
       "\n",
       "            SPOT_ID seqname      RANGE_GB RANGE_STRAND  RANGE_START  \\\n",
       "0  chr1:53049-54936    chr1  NC_000001.10            +        53049   \n",
       "1  chr1:63015-63887    chr1  NC_000001.10            +        63015   \n",
       "2  chr1:69091-70008    chr1  NC_000001.10            +        69091   \n",
       "\n",
       "   RANGE_STOP  total_probes  \\\n",
       "0       54936             7   \n",
       "1       63887            31   \n",
       "2       70008            24   \n",
       "\n",
       "                                     gene_assignment  \\\n",
       "0                                                ---   \n",
       "1                                                ---   \n",
       "2  NM_001005240 // OR4F17 // olfactory receptor, ...   \n",
       "\n",
       "                                     mrna_assignment category  \n",
       "0                                                ---      ---  \n",
       "1  ENST00000328113 // ENSEMBL // cdna:pseudogene ...     main  \n",
       "2  NM_001005240 // RefSeq // Homo sapiens olfacto...     main  "
      ]
     },
     "execution_count": 9,
     "metadata": {},
     "output_type": "execute_result"
    }
   ],
   "source": [
    "gpl = list(gse.gpls.values())[0]\n",
    "\n",
    "print('Title: ', gpl.metadata['title'][0])\n",
    "print('GEO Accession: ', gpl.metadata['geo_accession'][0])\n",
    "print('Number of probes: ', gpl.metadata['data_row_count'][0])\n",
    "\n",
    "gpl_table = gpl.table\n",
    "gpl_table.head(3)"
   ]
  },
  {
   "cell_type": "markdown",
   "metadata": {},
   "source": [
    "Here, we are interested in gene symbols. These are embedded in the `gene_assignment` column, so we parse these string values. We retain 22,037 probes with 20,694 unique genes."
   ]
  },
  {
   "cell_type": "code",
   "execution_count": 52,
   "metadata": {},
   "outputs": [
    {
     "data": {
      "application/vnd.jupyter.widget-view+json": {
       "model_id": "5e9d7a8a2e4b4b8a8cdd58954620c296",
       "version_major": 2,
       "version_minor": 0
      },
      "text/plain": [
       "  0%|          | 0/22037 [00:00<?, ?it/s]"
      ]
     },
     "metadata": {},
     "output_type": "display_data"
    },
    {
     "name": "stdout",
     "output_type": "stream",
     "text": [
      "Number of clean probes: 22037\n",
      "Number of unique genes: 20694\n",
      "Example genes: ['RNF214' 'C20orf4' 'AGAP10' 'CDK11A' 'TXLNB']\n"
     ]
    }
   ],
   "source": [
    "# We drop the probes that do not have a gene symbol\n",
    "gb_list = gpl_table[['GB_LIST', 'gene_assignment']].dropna()\n",
    "gb_list.drop(gb_list[gb_list['gene_assignment'] == '---'].index, inplace=True)\n",
    "\n",
    "symbols = []\n",
    "symbols_unique = set()\n",
    "for gbs, assignment in tqdm(gb_list.values, total=len(gb_list)):\n",
    "    gbs = gbs.split(',')\n",
    "    parsed = []\n",
    "    for gb in gbs:\n",
    "        try:\n",
    "            parsed.append(re.search(rf\"{gb} // (\\w+) //\", assignment).group(1))\n",
    "        except:\n",
    "            pass\n",
    "    parsed = list(set(parsed))\n",
    "    symbols.append(parsed)\n",
    "    symbols_unique.update(parsed)\n",
    "\n",
    "print(f'Number of clean probes: {len(symbols)}')\n",
    "print(f'Number of unique genes: {len(symbols_unique)}')\n",
    "print(f'Example genes: {np.random.choice(list(symbols_unique), 5)}')"
   ]
  }
 ],
 "metadata": {
  "kernelspec": {
   "display_name": "bio",
   "language": "python",
   "name": "python3"
  },
  "language_info": {
   "codemirror_mode": {
    "name": "ipython",
    "version": 3
   },
   "file_extension": ".py",
   "mimetype": "text/x-python",
   "name": "python",
   "nbconvert_exporter": "python",
   "pygments_lexer": "ipython3",
   "version": "3.9.20"
  }
 },
 "nbformat": 4,
 "nbformat_minor": 2
}
